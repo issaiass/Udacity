{
 "cells": [
  {
   "cell_type": "markdown",
   "metadata": {
    "collapsed": true
   },
   "source": [
    "# Language Translation\n",
    "In this project, you’re going to take a peek into the realm of neural network machine translation.  You’ll be training a sequence to sequence model on a dataset of English and French sentences that can translate new sentences from English to French.\n",
    "## Get the Data\n",
    "Since translating the whole language of English to French will take lots of time to train, we have provided you with a small portion of the English corpus."
   ]
  },
  {
   "cell_type": "code",
   "execution_count": 62,
   "metadata": {
    "collapsed": true
   },
   "outputs": [],
   "source": [
    "\"\"\"\n",
    "DON'T MODIFY ANYTHING IN THIS CELL\n",
    "\"\"\"\n",
    "import helper\n",
    "import problem_unittests as tests\n",
    "\n",
    "source_path = 'data/small_vocab_en'\n",
    "target_path = 'data/small_vocab_fr'\n",
    "source_text = helper.load_data(source_path)\n",
    "target_text = helper.load_data(target_path)"
   ]
  },
  {
   "cell_type": "markdown",
   "metadata": {},
   "source": [
    "## Explore the Data\n",
    "Play around with view_sentence_range to view different parts of the data."
   ]
  },
  {
   "cell_type": "code",
   "execution_count": 63,
   "metadata": {
    "collapsed": false
   },
   "outputs": [
    {
     "name": "stdout",
     "output_type": "stream",
     "text": [
      "Dataset Stats\n",
      "Roughly the number of unique words: 227\n",
      "Number of sentences: 137861\n",
      "Average number of words in a sentence: 13.225277634719028\n",
      "\n",
      "English sentences 0 to 10:\n",
      "new jersey is sometimes quiet during autumn , and it is snowy in april .\n",
      "the united states is usually chilly during july , and it is usually freezing in november .\n",
      "california is usually quiet during march , and it is usually hot in june .\n",
      "the united states is sometimes mild during june , and it is cold in september .\n",
      "your least liked fruit is the grape , but my least liked is the apple .\n",
      "his favorite fruit is the orange , but my favorite is the grape .\n",
      "paris is relaxing during december , but it is usually chilly in july .\n",
      "new jersey is busy during spring , and it is never hot in march .\n",
      "our least liked fruit is the lemon , but my least liked is the grape .\n",
      "the united states is sometimes busy during january , and it is sometimes warm in november .\n",
      "\n",
      "French sentences 0 to 10:\n",
      "new jersey est parfois calme pendant l' automne , et il est neigeux en avril .\n",
      "les états-unis est généralement froid en juillet , et il gèle habituellement en novembre .\n",
      "california est généralement calme en mars , et il est généralement chaud en juin .\n",
      "les états-unis est parfois légère en juin , et il fait froid en septembre .\n",
      "votre moins aimé fruit est le raisin , mais mon moins aimé est la pomme .\n",
      "son fruit préféré est l'orange , mais mon préféré est le raisin .\n",
      "paris est relaxant en décembre , mais il est généralement froid en juillet .\n",
      "new jersey est occupé au printemps , et il est jamais chaude en mars .\n",
      "notre fruit est moins aimé le citron , mais mon moins aimé est le raisin .\n",
      "les états-unis est parfois occupé en janvier , et il est parfois chaud en novembre .\n"
     ]
    }
   ],
   "source": [
    "view_sentence_range = (0, 10)\n",
    "\n",
    "\"\"\"\n",
    "DON'T MODIFY ANYTHING IN THIS CELL\n",
    "\"\"\"\n",
    "import numpy as np\n",
    "\n",
    "print('Dataset Stats')\n",
    "print('Roughly the number of unique words: {}'.format(len({word: None for word in source_text.split()})))\n",
    "\n",
    "sentences = source_text.split('\\n')\n",
    "word_counts = [len(sentence.split()) for sentence in sentences]\n",
    "print('Number of sentences: {}'.format(len(sentences)))\n",
    "print('Average number of words in a sentence: {}'.format(np.average(word_counts)))\n",
    "\n",
    "print()\n",
    "print('English sentences {} to {}:'.format(*view_sentence_range))\n",
    "print('\\n'.join(source_text.split('\\n')[view_sentence_range[0]:view_sentence_range[1]]))\n",
    "print()\n",
    "print('French sentences {} to {}:'.format(*view_sentence_range))\n",
    "print('\\n'.join(target_text.split('\\n')[view_sentence_range[0]:view_sentence_range[1]]))"
   ]
  },
  {
   "cell_type": "markdown",
   "metadata": {},
   "source": [
    "## Implement Preprocessing Function\n",
    "### Text to Word Ids\n",
    "As you did with other RNNs, you must turn the text into a number so the computer can understand it. In the function `text_to_ids()`, you'll turn `source_text` and `target_text` from words to ids.  However, you need to add the `<EOS>` word id at the end of `target_text`.  This will help the neural network predict when the sentence should end.\n",
    "\n",
    "You can get the `<EOS>` word id by doing:\n",
    "```python\n",
    "target_vocab_to_int['<EOS>']\n",
    "```\n",
    "You can get other word ids using `source_vocab_to_int` and `target_vocab_to_int`."
   ]
  },
  {
   "cell_type": "code",
   "execution_count": 64,
   "metadata": {
    "collapsed": false
   },
   "outputs": [
    {
     "name": "stdout",
     "output_type": "stream",
     "text": [
      "Tests Passed\n"
     ]
    }
   ],
   "source": [
    "def text_to_ids(source_text, target_text, source_vocab_to_int, target_vocab_to_int):\n",
    "    \"\"\"\n",
    "    Convert source and target text to proper word ids\n",
    "    :param source_text: String that contains all the source text.\n",
    "    :param target_text: String that contains all the target text.\n",
    "    :param source_vocab_to_int: Dictionary to go from the source words to an id\n",
    "    :param target_vocab_to_int: Dictionary to go from the target words to an id\n",
    "    :return: A tuple of lists (source_id_text, target_id_text)\n",
    "    \"\"\"\n",
    "    # TODO: Implement Function\n",
    "\n",
    "    src_txt = []\n",
    "    tgt_txt = []\n",
    "    src_txt = source_text.split('\\n')\n",
    "    tgt_txt = target_text.split('\\n')\n",
    "    EOS = source_vocab_to_int['<EOS>']\n",
    "    source_id_text = [[source_vocab_to_int[wIx] for wIx in all_line.split()] for all_line in src_txt]\n",
    "    target_id_text = [[target_vocab_to_int[wIx] for wIx in all_line.split()] + [EOS] for all_line in tgt_txt]\n",
    "    \n",
    "    return source_id_text, target_id_text\n",
    "\n",
    "\"\"\"\n",
    "DON'T MODIFY ANYTHING IN THIS CELL THAT IS BELOW THIS LINE\n",
    "\"\"\"\n",
    "tests.test_text_to_ids(text_to_ids)"
   ]
  },
  {
   "cell_type": "markdown",
   "metadata": {},
   "source": [
    "### Preprocess all the data and save it\n",
    "Running the code cell below will preprocess all the data and save it to file."
   ]
  },
  {
   "cell_type": "code",
   "execution_count": 65,
   "metadata": {
    "collapsed": true
   },
   "outputs": [],
   "source": [
    "\"\"\"\n",
    "DON'T MODIFY ANYTHING IN THIS CELL\n",
    "\"\"\"\n",
    "helper.preprocess_and_save_data(source_path, target_path, text_to_ids)"
   ]
  },
  {
   "cell_type": "markdown",
   "metadata": {},
   "source": [
    "# Check Point\n",
    "This is your first checkpoint. If you ever decide to come back to this notebook or have to restart the notebook, you can start from here. The preprocessed data has been saved to disk."
   ]
  },
  {
   "cell_type": "code",
   "execution_count": 66,
   "metadata": {
    "collapsed": true
   },
   "outputs": [],
   "source": [
    "\"\"\"\n",
    "DON'T MODIFY ANYTHING IN THIS CELL\n",
    "\"\"\"\n",
    "import numpy as np\n",
    "import helper\n",
    "import problem_unittests as tests\n",
    "\n",
    "(source_int_text, target_int_text), (source_vocab_to_int, target_vocab_to_int), _ = helper.load_preprocess()"
   ]
  },
  {
   "cell_type": "markdown",
   "metadata": {},
   "source": [
    "### Check the Version of TensorFlow and Access to GPU\n",
    "This will check to make sure you have the correct version of TensorFlow and access to a GPU"
   ]
  },
  {
   "cell_type": "code",
   "execution_count": 67,
   "metadata": {
    "collapsed": false
   },
   "outputs": [
    {
     "name": "stdout",
     "output_type": "stream",
     "text": [
      "TensorFlow Version: 1.1.0\n"
     ]
    },
    {
     "name": "stderr",
     "output_type": "stream",
     "text": [
      "C:\\Users\\Isaias\\Anaconda3\\envs\\tflearn\\lib\\site-packages\\ipykernel\\__main__.py:15: UserWarning: No GPU found. Please use a GPU to train your neural network.\n"
     ]
    }
   ],
   "source": [
    "\"\"\"\n",
    "DON'T MODIFY ANYTHING IN THIS CELL\n",
    "\"\"\"\n",
    "from distutils.version import LooseVersion\n",
    "import warnings\n",
    "import tensorflow as tf\n",
    "from tensorflow.python.layers.core import Dense\n",
    "\n",
    "# Check TensorFlow Version\n",
    "assert LooseVersion(tf.__version__) >= LooseVersion('1.1'), 'Please use TensorFlow version 1.1 or newer'\n",
    "print('TensorFlow Version: {}'.format(tf.__version__))\n",
    "\n",
    "# Check for a GPU\n",
    "if not tf.test.gpu_device_name():\n",
    "    warnings.warn('No GPU found. Please use a GPU to train your neural network.')\n",
    "else:\n",
    "    print('Default GPU Device: {}'.format(tf.test.gpu_device_name()))"
   ]
  },
  {
   "cell_type": "markdown",
   "metadata": {},
   "source": [
    "## Build the Neural Network\n",
    "You'll build the components necessary to build a Sequence-to-Sequence model by implementing the following functions below:\n",
    "- `model_inputs`\n",
    "- `process_decoder_input`\n",
    "- `encoding_layer`\n",
    "- `decoding_layer_train`\n",
    "- `decoding_layer_infer`\n",
    "- `decoding_layer`\n",
    "- `seq2seq_model`\n",
    "\n",
    "### Input\n",
    "Implement the `model_inputs()` function to create TF Placeholders for the Neural Network. It should create the following placeholders:\n",
    "\n",
    "- Input text placeholder named \"input\" using the TF Placeholder name parameter with rank 2.\n",
    "- Targets placeholder with rank 2.\n",
    "- Learning rate placeholder with rank 0.\n",
    "- Keep probability placeholder named \"keep_prob\" using the TF Placeholder name parameter with rank 0.\n",
    "- Target sequence length placeholder named \"target_sequence_length\" with rank 1\n",
    "- Max target sequence length tensor named \"max_target_len\" getting its value from applying tf.reduce_max on the target_sequence_length placeholder. Rank 0.\n",
    "- Source sequence length placeholder named \"source_sequence_length\" with rank 1\n",
    "\n",
    "Return the placeholders in the following the tuple (input, targets, learning rate, keep probability, target sequence length, max target sequence length, source sequence length)"
   ]
  },
  {
   "cell_type": "code",
   "execution_count": 68,
   "metadata": {
    "collapsed": false
   },
   "outputs": [
    {
     "name": "stdout",
     "output_type": "stream",
     "text": [
      "Tests Passed\n"
     ]
    }
   ],
   "source": [
    "def model_inputs():\n",
    "    \"\"\"\n",
    "    Create TF Placeholders for input, targets, learning rate, and lengths of source and target sequences.\n",
    "    :return: Tuple (input, targets, learning rate, keep probability, target sequence length,\n",
    "    max target sequence length, source sequence length)\n",
    "    \"\"\"\n",
    "    # TODO: Implement Function\n",
    "    \n",
    "    input = tf.placeholder(tf.int32, [None, None], name='input')\n",
    "    targets = tf.placeholder(tf.int32, [None, None], name='target')\n",
    "    learning_rate = tf.placeholder(tf.float32, name='learning_rate')\n",
    "    keep_prob = tf.placeholder(tf.float32, name='keep_prob')\n",
    "    target_sequence_length = tf.placeholder(tf.int32, [None], name='target_sequence_length')\n",
    "    max_target_len = tf.reduce_max(target_sequence_length)\n",
    "    source_sequence_length = tf.placeholder(tf.int32, [None], name='source_sequence_length')\n",
    "    return input, targets, learning_rate, keep_prob, target_sequence_length, max_target_len, source_sequence_length\n",
    "\n",
    "\n",
    "\"\"\"\n",
    "DON'T MODIFY ANYTHING IN THIS CELL THAT IS BELOW THIS LINE\n",
    "\"\"\"\n",
    "tests.test_model_inputs(model_inputs)"
   ]
  },
  {
   "cell_type": "markdown",
   "metadata": {},
   "source": [
    "### Process Decoder Input\n",
    "Implement `process_decoder_input` by removing the last word id from each batch in `target_data` and concat the GO ID to the begining of each batch."
   ]
  },
  {
   "cell_type": "code",
   "execution_count": 69,
   "metadata": {
    "collapsed": false
   },
   "outputs": [
    {
     "name": "stdout",
     "output_type": "stream",
     "text": [
      "Tests Passed\n"
     ]
    }
   ],
   "source": [
    "def process_decoder_input(target_data, target_vocab_to_int, batch_size):\n",
    "    \"\"\"\n",
    "    Preprocess target data for encoding\n",
    "    :param target_data: Target Placehoder\n",
    "    :param target_vocab_to_int: Dictionary to go from the target words to an id\n",
    "    :param batch_size: Batch Size\n",
    "    :return: Preprocessed target data\n",
    "    \"\"\"\n",
    "    # TODO: Implement Function\n",
    "    \n",
    "    GO = source_vocab_to_int['<GO>']\n",
    "    end = tf.strided_slice(target_data, [0, 0], [batch_size, -1], [1, 1])\n",
    "    dec = tf.concat([tf.fill([batch_size, 1], GO), end], 1)\n",
    "    return dec\n",
    "    \n",
    "\n",
    "\"\"\"\n",
    "DON'T MODIFY ANYTHING IN THIS CELL THAT IS BELOW THIS LINE\n",
    "\"\"\"\n",
    "tests.test_process_encoding_input(process_decoder_input)"
   ]
  },
  {
   "cell_type": "markdown",
   "metadata": {},
   "source": [
    "### Encoding\n",
    "Implement `encoding_layer()` to create a Encoder RNN layer:\n",
    " * Embed the encoder input using [`tf.contrib.layers.embed_sequence`](https://www.tensorflow.org/api_docs/python/tf/contrib/layers/embed_sequence)\n",
    " * Construct a [stacked](https://github.com/tensorflow/tensorflow/blob/6947f65a374ebf29e74bb71e36fd82760056d82c/tensorflow/docs_src/tutorials/recurrent.md#stacking-multiple-lstms) [`tf.contrib.rnn.LSTMCell`](https://www.tensorflow.org/api_docs/python/tf/contrib/rnn/LSTMCell) wrapped in a [`tf.contrib.rnn.DropoutWrapper`](https://www.tensorflow.org/api_docs/python/tf/contrib/rnn/DropoutWrapper)\n",
    " * Pass cell and embedded input to [`tf.nn.dynamic_rnn()`](https://www.tensorflow.org/api_docs/python/tf/nn/dynamic_rnn)"
   ]
  },
  {
   "cell_type": "code",
   "execution_count": 70,
   "metadata": {
    "collapsed": false,
    "scrolled": false
   },
   "outputs": [
    {
     "name": "stdout",
     "output_type": "stream",
     "text": [
      "Tests Passed\n"
     ]
    }
   ],
   "source": [
    "from imp import reload\n",
    "reload(tests)\n",
    "\n",
    "def encoding_layer(rnn_inputs, rnn_size, num_layers, keep_prob, \n",
    "                   source_sequence_length, source_vocab_size, \n",
    "                   encoding_embedding_size):\n",
    "    \"\"\"\n",
    "    Create encoding layer\n",
    "    :param rnn_inputs: Inputs for the RNN\n",
    "    :param rnn_size: RNN Size\n",
    "    :param num_layers: Number of layers\n",
    "    :param keep_prob: Dropout keep probability\n",
    "    :param source_sequence_length: a list of the lengths of each sequence in the batch\n",
    "    :param source_vocab_size: vocabulary size of source data\n",
    "    :param encoding_embedding_size: embedding size of source data\n",
    "    :return: tuple (RNN output, RNN state)\n",
    "    \"\"\"\n",
    "    # TODO: Implement Function\n",
    "    enc_embed_input = tf.contrib.layers.embed_sequence(rnn_inputs, source_vocab_size, encoding_embedding_size)\n",
    "    RNNcell = tf.contrib.rnn.MultiRNNCell([tf.contrib.rnn.LSTMCell(rnn_size) for i in range(num_layers)])\n",
    "    RNNoutput, RNNstate = tf.nn.dynamic_rnn(RNNcell, enc_embed_input, sequence_length=source_sequence_length, dtype=tf.float32)\n",
    "    out = (RNNoutput,RNNstate)\n",
    "    return out \n",
    "    \n",
    "\n",
    "\"\"\"\n",
    "DON'T MODIFY ANYTHING IN THIS CELL THAT IS BELOW THIS LINE\n",
    "\"\"\"\n",
    "tests.test_encoding_layer(encoding_layer)"
   ]
  },
  {
   "cell_type": "markdown",
   "metadata": {},
   "source": [
    "### Decoding - Training\n",
    "Create a training decoding layer:\n",
    "* Create a [`tf.contrib.seq2seq.TrainingHelper`](https://www.tensorflow.org/api_docs/python/tf/contrib/seq2seq/TrainingHelper) \n",
    "* Create a [`tf.contrib.seq2seq.BasicDecoder`](https://www.tensorflow.org/api_docs/python/tf/contrib/seq2seq/BasicDecoder)\n",
    "* Obtain the decoder outputs from [`tf.contrib.seq2seq.dynamic_decode`](https://www.tensorflow.org/api_docs/python/tf/contrib/seq2seq/dynamic_decode)"
   ]
  },
  {
   "cell_type": "code",
   "execution_count": 71,
   "metadata": {
    "collapsed": false
   },
   "outputs": [
    {
     "name": "stdout",
     "output_type": "stream",
     "text": [
      "Tests Passed\n"
     ]
    }
   ],
   "source": [
    "\n",
    "def decoding_layer_train(encoder_state, dec_cell, dec_embed_input, \n",
    "                         target_sequence_length, max_summary_length, \n",
    "                         output_layer, keep_prob):\n",
    "    \"\"\"\n",
    "    Create a decoding layer for training\n",
    "    :param encoder_state: Encoder State\n",
    "    :param dec_cell: Decoder RNN Cell\n",
    "    :param dec_embed_input: Decoder embedded input\n",
    "    :param target_sequence_length: The lengths of each sequence in the target batch\n",
    "    :param max_summary_length: The length of the longest sequence in the batch\n",
    "    :param output_layer: Function to apply the output layer\n",
    "    :param keep_prob: Dropout keep probability\n",
    "    :return: BasicDecoderOutput containing training logits and sample_id\n",
    "    \"\"\"\n",
    "    # TODO: Implement Function\n",
    "\n",
    "    hlpr = tf.contrib.seq2seq.TrainingHelper(dec_embed_input, target_sequence_length, False)\n",
    "    dec = tf.contrib.seq2seq.BasicDecoder(dec_cell, hlpr, encoder_state, output_layer)\n",
    "    dec_outs, _ = tf.contrib.seq2seq.dynamic_decode(dec, impute_finished=True, maximum_iterations=max_summary_length)\n",
    "    rnn_out = dec_outs.rnn_output\n",
    "    sample_id = dec_outs.sample_id\n",
    "    dropout = tf.nn.dropout(rnn_out, keep_prob)\n",
    "    return tf.contrib.seq2seq.BasicDecoderOutput(dropout, sample_id)\n",
    "\n",
    "\"\"\"\n",
    "DON'T MODIFY ANYTHING IN THIS CELL THAT IS BELOW THIS LINE\n",
    "\"\"\"\n",
    "tests.test_decoding_layer_train(decoding_layer_train)"
   ]
  },
  {
   "cell_type": "markdown",
   "metadata": {},
   "source": [
    "### Decoding - Inference\n",
    "Create inference decoder:\n",
    "* Create a [`tf.contrib.seq2seq.GreedyEmbeddingHelper`](https://www.tensorflow.org/api_docs/python/tf/contrib/seq2seq/GreedyEmbeddingHelper)\n",
    "* Create a [`tf.contrib.seq2seq.BasicDecoder`](https://www.tensorflow.org/api_docs/python/tf/contrib/seq2seq/BasicDecoder)\n",
    "* Obtain the decoder outputs from [`tf.contrib.seq2seq.dynamic_decode`](https://www.tensorflow.org/api_docs/python/tf/contrib/seq2seq/dynamic_decode)"
   ]
  },
  {
   "cell_type": "code",
   "execution_count": 72,
   "metadata": {
    "collapsed": false,
    "scrolled": true
   },
   "outputs": [
    {
     "name": "stdout",
     "output_type": "stream",
     "text": [
      "Tests Passed\n"
     ]
    }
   ],
   "source": [
    "def decoding_layer_infer(encoder_state, dec_cell, dec_embeddings, start_of_sequence_id,\n",
    "                         end_of_sequence_id, max_target_sequence_length,\n",
    "                         vocab_size, output_layer, batch_size, keep_prob):\n",
    "    \"\"\"\n",
    "    Create a decoding layer for inference\n",
    "    :param encoder_state: Encoder state\n",
    "    :param dec_cell: Decoder RNN Cell\n",
    "    :param dec_embeddings: Decoder embeddings\n",
    "    :param start_of_sequence_id: GO ID\n",
    "    :param end_of_sequence_id: EOS Id\n",
    "    :param max_target_sequence_length: Maximum length of target sequences\n",
    "    :param vocab_size: Size of decoder/target vocabulary\n",
    "    :param decoding_scope: TenorFlow Variable Scope for decoding\n",
    "    :param output_layer: Function to apply the output layer\n",
    "    :param batch_size: Batch size\n",
    "    :param keep_prob: Dropout keep probability\n",
    "    :return: BasicDecoderOutput containing inference logits and sample_id\n",
    "    \"\"\"\n",
    "    # TODO: Implement Function\n",
    "    initial_tokens = tf.tile(tf.constant([start_of_sequence_id],dtype=tf.int32),[batch_size],name='initial_tokens')\n",
    "    hlpr = tf.contrib.seq2seq.GreedyEmbeddingHelper(dec_embeddings,initial_tokens,end_of_sequence_id)\n",
    "    dec  = tf.contrib.seq2seq.BasicDecoder(dec_cell,hlpr,encoder_state,output_layer)\n",
    "    dec_out, dec_state = tf.contrib.seq2seq.dynamic_decode(dec, impute_finished=True,\n",
    "                                                           maximum_iterations=max_target_sequence_length)\n",
    "    rnn_output = dec_out.rnn_output\n",
    "    sample_id = dec_out.sample_id\n",
    "#    dropout = tf.nn.dropout(rnn_output, keep_prob)\n",
    "    return tf.contrib.seq2seq.BasicDecoderOutput(rnn_output, sample_id)\n",
    "\n",
    "\"\"\"\n",
    "DON'T MODIFY ANYTHING IN THIS CELL THAT IS BELOW THIS LINE\n",
    "\"\"\"\n",
    "tests.test_decoding_layer_infer(decoding_layer_infer)"
   ]
  },
  {
   "cell_type": "markdown",
   "metadata": {},
   "source": [
    "### Build the Decoding Layer\n",
    "Implement `decoding_layer()` to create a Decoder RNN layer.\n",
    "\n",
    "* Embed the target sequences\n",
    "* Construct the decoder LSTM cell (just like you constructed the encoder cell above)\n",
    "* Create an output layer to map the outputs of the decoder to the elements of our vocabulary\n",
    "* Use the your `decoding_layer_train(encoder_state, dec_cell, dec_embed_input, target_sequence_length, max_target_sequence_length, output_layer, keep_prob)` function to get the training logits.\n",
    "* Use your `decoding_layer_infer(encoder_state, dec_cell, dec_embeddings, start_of_sequence_id, end_of_sequence_id, max_target_sequence_length, vocab_size, output_layer, batch_size, keep_prob)` function to get the inference logits.\n",
    "\n",
    "Note: You'll need to use [tf.variable_scope](https://www.tensorflow.org/api_docs/python/tf/variable_scope) to share variables between training and inference."
   ]
  },
  {
   "cell_type": "code",
   "execution_count": 77,
   "metadata": {
    "collapsed": false
   },
   "outputs": [
    {
     "name": "stdout",
     "output_type": "stream",
     "text": [
      "Tests Passed\n"
     ]
    }
   ],
   "source": [
    "def decoding_layer(dec_input, encoder_state,\n",
    "                   target_sequence_length, max_target_sequence_length,\n",
    "                   rnn_size,\n",
    "                   num_layers, target_vocab_to_int, target_vocab_size,\n",
    "                   batch_size, keep_prob, decoding_embedding_size):\n",
    "    \"\"\"\n",
    "    Create decoding layer\n",
    "    :param dec_input: Decoder input\n",
    "    :param encoder_state: Encoder state\n",
    "    :param target_sequence_length: The lengths of each sequence in the target batch\n",
    "    :param max_target_sequence_length: Maximum length of target sequences\n",
    "    :param rnn_size: RNN Size\n",
    "    :param num_layers: Number of layers\n",
    "    :param target_vocab_to_int: Dictionary to go from the target words to an id\n",
    "    :param target_vocab_size: Size of target vocabulary\n",
    "    :param batch_size: The size of the batch\n",
    "    :param keep_prob: Dropout keep probability\n",
    "    :param decoding_embedding_size: Decoding embedding size\n",
    "    :return: Tuple of (Training BasicDecoderOutput, Inference BasicDecoderOutput)\n",
    "    \"\"\"\n",
    "    # TODO: Implement Function\n",
    "    GO = target_vocab_to_int['<GO>']\n",
    "    EOS = target_vocab_to_int['<EOS>']\n",
    "    dec_embed = tf.Variable(tf.random_uniform([target_vocab_size, decoding_embedding_size]))\n",
    "    dec_embed_in = tf.nn.embedding_lookup(dec_embed, dec_input)\n",
    "    dec_cell = tf.contrib.rnn.MultiRNNCell([tf.contrib.rnn.LSTMCell(rnn_size) for i in range(num_layers) ])\n",
    "    output_layer = Dense(target_vocab_size, kernel_initializer = tf.truncated_normal_initializer(mean = 0.0, stddev=0.2))\n",
    "    with tf.variable_scope(\"dec\", reuse=False) as decoding_scope:\n",
    "        train = decoding_layer_train(encoder_state, dec_cell, dec_embed_in, target_sequence_length, \n",
    "                                     max_target_sequence_length, output_layer, keep_prob)\n",
    "#    decoding_scope.reuse_variables() doesn't work\n",
    "    with tf.variable_scope(\"dec\", reuse=True) as decoding_scope:\n",
    "        infer = decoding_layer_infer(encoder_state, dec_cell, dec_embed, GO, EOS, max_target_sequence_length,\n",
    "                                 target_vocab_size, output_layer, batch_size, keep_prob)\n",
    "\n",
    "    out = (train, infer)\n",
    "    return out\n",
    "\n",
    "\"\"\"\n",
    "DON'T MODIFY ANYTHING IN THIS CELL THAT IS BELOW THIS LINE\n",
    "\"\"\"\n",
    "tests.test_decoding_layer(decoding_layer)"
   ]
  },
  {
   "cell_type": "markdown",
   "metadata": {},
   "source": [
    "### Build the Neural Network\n",
    "Apply the functions you implemented above to:\n",
    "\n",
    "- Encode the input using your `encoding_layer(rnn_inputs, rnn_size, num_layers, keep_prob,  source_sequence_length, source_vocab_size, encoding_embedding_size)`.\n",
    "- Process target data using your `process_decoder_input(target_data, target_vocab_to_int, batch_size)` function.\n",
    "- Decode the encoded input using your `decoding_layer(dec_input, enc_state, target_sequence_length, max_target_sentence_length, rnn_size, num_layers, target_vocab_to_int, target_vocab_size, batch_size, keep_prob, dec_embedding_size)` function."
   ]
  },
  {
   "cell_type": "code",
   "execution_count": 78,
   "metadata": {
    "collapsed": false
   },
   "outputs": [
    {
     "name": "stdout",
     "output_type": "stream",
     "text": [
      "Tests Passed\n"
     ]
    }
   ],
   "source": [
    "def seq2seq_model(input_data, target_data, keep_prob, batch_size,\n",
    "                  source_sequence_length, target_sequence_length,\n",
    "                  max_target_sentence_length,\n",
    "                  source_vocab_size, target_vocab_size,\n",
    "                  enc_embedding_size, dec_embedding_size,\n",
    "                  rnn_size, num_layers, target_vocab_to_int):\n",
    "    \"\"\"\n",
    "    Build the Sequence-to-Sequence part of the neural network\n",
    "    :param input_data: Input placeholder\n",
    "    :param target_data: Target placeholder\n",
    "    :param keep_prob: Dropout keep probability placeholder\n",
    "    :param batch_size: Batch Size\n",
    "    :param source_sequence_length: Sequence Lengths of source sequences in the batch\n",
    "    :param target_sequence_length: Sequence Lengths of target sequences in the batch\n",
    "    :param source_vocab_size: Source vocabulary size\n",
    "    :param target_vocab_size: Target vocabulary size\n",
    "    :param enc_embedding_size: Decoder embedding size\n",
    "    :param dec_embedding_size: Encoder embedding size\n",
    "    :param rnn_size: RNN Size\n",
    "    :param num_layers: Number of layers\n",
    "    :param target_vocab_to_int: Dictionary to go from the target words to an id\n",
    "    :return: Tuple of (Training BasicDecoderOutput, Inference BasicDecoderOutput)\n",
    "    \"\"\"\n",
    "    # TODO: Implement Function\n",
    "\n",
    "    enc_out, enc_state = encoding_layer(input_data, rnn_size, num_layers, keep_prob,\n",
    "                                        source_sequence_length, source_vocab_size,\n",
    "                                        enc_embedding_size)\n",
    "    dec_in = process_decoder_input(target_data, target_vocab_to_int, batch_size)\n",
    "    train_out, inf_out = decoding_layer(dec_in, enc_state,\n",
    "                   target_sequence_length, max_target_sentence_length,\n",
    "                   rnn_size, num_layers, target_vocab_to_int, target_vocab_size,\n",
    "                   batch_size, keep_prob, dec_embedding_size)\n",
    "   \n",
    "    out = (train_out, inf_out)\n",
    "    return out\n",
    "\n",
    "\n",
    "\"\"\"\n",
    "DON'T MODIFY ANYTHING IN THIS CELL THAT IS BELOW THIS LINE\n",
    "\"\"\"\n",
    "tests.test_seq2seq_model(seq2seq_model)"
   ]
  },
  {
   "cell_type": "markdown",
   "metadata": {},
   "source": [
    "## Neural Network Training\n",
    "### Hyperparameters\n",
    "Tune the following parameters:\n",
    "\n",
    "- Set `epochs` to the number of epochs.\n",
    "- Set `batch_size` to the batch size.\n",
    "- Set `rnn_size` to the size of the RNNs.\n",
    "- Set `num_layers` to the number of layers.\n",
    "- Set `encoding_embedding_size` to the size of the embedding for the encoder.\n",
    "- Set `decoding_embedding_size` to the size of the embedding for the decoder.\n",
    "- Set `learning_rate` to the learning rate.\n",
    "- Set `keep_probability` to the Dropout keep probability\n",
    "- Set `display_step` to state how many steps between each debug output statement"
   ]
  },
  {
   "cell_type": "code",
   "execution_count": 79,
   "metadata": {
    "collapsed": true
   },
   "outputs": [],
   "source": [
    "# Number of Epochs\n",
    "epochs = 9\n",
    "# Batch Size\n",
    "batch_size = 512\n",
    "# RNN Size\n",
    "rnn_size = 256\n",
    "# Number of Layers\n",
    "num_layers = 2\n",
    "# Embedding Size\n",
    "encoding_embedding_size = 256 # the vocab is 277, use embedding_size of 128 or above 50\n",
    "decoding_embedding_size = 256 # the vocab is 277, use embedding_size of 128 or above 50\n",
    "# Learning Rate\n",
    "learning_rate = 0.001\n",
    "# Dropout Keep Probability\n",
    "keep_probability = 0.5\n",
    "display_step = 10"
   ]
  },
  {
   "cell_type": "markdown",
   "metadata": {},
   "source": [
    "### Build the Graph\n",
    "Build the graph using the neural network you implemented."
   ]
  },
  {
   "cell_type": "code",
   "execution_count": 80,
   "metadata": {
    "collapsed": true
   },
   "outputs": [],
   "source": [
    "\"\"\"\n",
    "DON'T MODIFY ANYTHING IN THIS CELL\n",
    "\"\"\"\n",
    "save_path = 'checkpoints/dev'\n",
    "(source_int_text, target_int_text), (source_vocab_to_int, target_vocab_to_int), _ = helper.load_preprocess()\n",
    "max_target_sentence_length = max([len(sentence) for sentence in source_int_text])\n",
    "\n",
    "train_graph = tf.Graph()\n",
    "with train_graph.as_default():\n",
    "    input_data, targets, lr, keep_prob, target_sequence_length, max_target_sequence_length, source_sequence_length = model_inputs()\n",
    "\n",
    "    #sequence_length = tf.placeholder_with_default(max_target_sentence_length, None, name='sequence_length')\n",
    "    input_shape = tf.shape(input_data)\n",
    "\n",
    "    train_logits, inference_logits = seq2seq_model(tf.reverse(input_data, [-1]),\n",
    "                                                   targets,\n",
    "                                                   keep_prob,\n",
    "                                                   batch_size,\n",
    "                                                   source_sequence_length,\n",
    "                                                   target_sequence_length,\n",
    "                                                   max_target_sequence_length,\n",
    "                                                   len(source_vocab_to_int),\n",
    "                                                   len(target_vocab_to_int),\n",
    "                                                   encoding_embedding_size,\n",
    "                                                   decoding_embedding_size,\n",
    "                                                   rnn_size,\n",
    "                                                   num_layers,\n",
    "                                                   target_vocab_to_int)\n",
    "\n",
    "\n",
    "    training_logits = tf.identity(train_logits.rnn_output, name='logits')\n",
    "    inference_logits = tf.identity(inference_logits.sample_id, name='predictions')\n",
    "\n",
    "    masks = tf.sequence_mask(target_sequence_length, max_target_sequence_length, dtype=tf.float32, name='masks')\n",
    "\n",
    "    with tf.name_scope(\"optimization\"):\n",
    "        # Loss function\n",
    "        cost = tf.contrib.seq2seq.sequence_loss(\n",
    "            training_logits,\n",
    "            targets,\n",
    "            masks)\n",
    "\n",
    "        # Optimizer\n",
    "        optimizer = tf.train.AdamOptimizer(lr)\n",
    "\n",
    "        # Gradient Clipping\n",
    "        gradients = optimizer.compute_gradients(cost)\n",
    "        capped_gradients = [(tf.clip_by_value(grad, -1., 1.), var) for grad, var in gradients if grad is not None]\n",
    "        train_op = optimizer.apply_gradients(capped_gradients)\n"
   ]
  },
  {
   "cell_type": "markdown",
   "metadata": {},
   "source": [
    "Batch and pad the source and target sequences"
   ]
  },
  {
   "cell_type": "code",
   "execution_count": 81,
   "metadata": {
    "collapsed": true
   },
   "outputs": [],
   "source": [
    "\"\"\"\n",
    "DON'T MODIFY ANYTHING IN THIS CELL\n",
    "\"\"\"\n",
    "def pad_sentence_batch(sentence_batch, pad_int):\n",
    "    \"\"\"Pad sentences with <PAD> so that each sentence of a batch has the same length\"\"\"\n",
    "    max_sentence = max([len(sentence) for sentence in sentence_batch])\n",
    "    return [sentence + [pad_int] * (max_sentence - len(sentence)) for sentence in sentence_batch]\n",
    "\n",
    "\n",
    "def get_batches(sources, targets, batch_size, source_pad_int, target_pad_int):\n",
    "    \"\"\"Batch targets, sources, and the lengths of their sentences together\"\"\"\n",
    "    for batch_i in range(0, len(sources)//batch_size):\n",
    "        start_i = batch_i * batch_size\n",
    "\n",
    "        # Slice the right amount for the batch\n",
    "        sources_batch = sources[start_i:start_i + batch_size]\n",
    "        targets_batch = targets[start_i:start_i + batch_size]\n",
    "\n",
    "        # Pad\n",
    "        pad_sources_batch = np.array(pad_sentence_batch(sources_batch, source_pad_int))\n",
    "        pad_targets_batch = np.array(pad_sentence_batch(targets_batch, target_pad_int))\n",
    "\n",
    "        # Need the lengths for the _lengths parameters\n",
    "        pad_targets_lengths = []\n",
    "        for target in pad_targets_batch:\n",
    "            pad_targets_lengths.append(len(target))\n",
    "\n",
    "        pad_source_lengths = []\n",
    "        for source in pad_sources_batch:\n",
    "            pad_source_lengths.append(len(source))\n",
    "\n",
    "        yield pad_sources_batch, pad_targets_batch, pad_source_lengths, pad_targets_lengths\n"
   ]
  },
  {
   "cell_type": "markdown",
   "metadata": {},
   "source": [
    "### Train\n",
    "Train the neural network on the preprocessed data. If you have a hard time getting a good loss, check the forms to see if anyone is having the same problem."
   ]
  },
  {
   "cell_type": "code",
   "execution_count": 82,
   "metadata": {
    "collapsed": false,
    "scrolled": true
   },
   "outputs": [
    {
     "name": "stdout",
     "output_type": "stream",
     "text": [
      "Epoch   0 Batch   10/269 - Train Accuracy: 0.3224, Validation Accuracy: 0.3886, Loss: 4.6664\n",
      "Epoch   0 Batch   20/269 - Train Accuracy: 0.3529, Validation Accuracy: 0.4076, Loss: 4.3164\n",
      "Epoch   0 Batch   30/269 - Train Accuracy: 0.3973, Validation Accuracy: 0.4321, Loss: 4.0687\n",
      "Epoch   0 Batch   40/269 - Train Accuracy: 0.4430, Validation Accuracy: 0.4911, Loss: 3.9433\n",
      "Epoch   0 Batch   50/269 - Train Accuracy: 0.4497, Validation Accuracy: 0.4948, Loss: 3.7860\n",
      "Epoch   0 Batch   60/269 - Train Accuracy: 0.4804, Validation Accuracy: 0.4903, Loss: 3.6076\n",
      "Epoch   0 Batch   70/269 - Train Accuracy: 0.4365, Validation Accuracy: 0.4558, Loss: 3.5457\n",
      "Epoch   0 Batch   80/269 - Train Accuracy: 0.4497, Validation Accuracy: 0.4753, Loss: 3.3945\n",
      "Epoch   0 Batch   90/269 - Train Accuracy: 0.4146, Validation Accuracy: 0.4853, Loss: 3.4328\n",
      "Epoch   0 Batch  100/269 - Train Accuracy: 0.4789, Validation Accuracy: 0.4891, Loss: 3.3002\n",
      "Epoch   0 Batch  110/269 - Train Accuracy: 0.4912, Validation Accuracy: 0.5163, Loss: 3.2560\n",
      "Epoch   0 Batch  120/269 - Train Accuracy: 0.5569, Validation Accuracy: 0.5765, Loss: 3.2411\n",
      "Epoch   0 Batch  130/269 - Train Accuracy: 0.5344, Validation Accuracy: 0.5638, Loss: 3.1825\n",
      "Epoch   0 Batch  140/269 - Train Accuracy: 0.5842, Validation Accuracy: 0.5797, Loss: 3.1235\n",
      "Epoch   0 Batch  150/269 - Train Accuracy: 0.6028, Validation Accuracy: 0.6150, Loss: 3.1324\n",
      "Epoch   0 Batch  160/269 - Train Accuracy: 0.6142, Validation Accuracy: 0.6157, Loss: 3.0674\n",
      "Epoch   0 Batch  170/269 - Train Accuracy: 0.6067, Validation Accuracy: 0.6215, Loss: 3.0324\n",
      "Epoch   0 Batch  180/269 - Train Accuracy: 0.6254, Validation Accuracy: 0.6297, Loss: 3.0131\n",
      "Epoch   0 Batch  190/269 - Train Accuracy: 0.6378, Validation Accuracy: 0.6470, Loss: 2.9939\n",
      "Epoch   0 Batch  200/269 - Train Accuracy: 0.6397, Validation Accuracy: 0.6643, Loss: 3.0563\n",
      "Epoch   0 Batch  210/269 - Train Accuracy: 0.6566, Validation Accuracy: 0.6572, Loss: 2.9921\n",
      "Epoch   0 Batch  220/269 - Train Accuracy: 0.6825, Validation Accuracy: 0.6710, Loss: 2.9543\n",
      "Epoch   0 Batch  230/269 - Train Accuracy: 0.6765, Validation Accuracy: 0.6843, Loss: 2.9313\n",
      "Epoch   0 Batch  240/269 - Train Accuracy: 0.7137, Validation Accuracy: 0.6934, Loss: 2.9152\n",
      "Epoch   0 Batch  250/269 - Train Accuracy: 0.7008, Validation Accuracy: 0.7039, Loss: 2.8917\n",
      "Epoch   0 Batch  260/269 - Train Accuracy: 0.6807, Validation Accuracy: 0.7172, Loss: 2.9086\n",
      "Epoch   1 Batch   10/269 - Train Accuracy: 0.7173, Validation Accuracy: 0.7342, Loss: 2.8643\n",
      "Epoch   1 Batch   20/269 - Train Accuracy: 0.7360, Validation Accuracy: 0.7533, Loss: 2.8902\n",
      "Epoch   1 Batch   30/269 - Train Accuracy: 0.7747, Validation Accuracy: 0.7611, Loss: 2.8684\n",
      "Epoch   1 Batch   40/269 - Train Accuracy: 0.7523, Validation Accuracy: 0.7717, Loss: 2.8616\n",
      "Epoch   1 Batch   50/269 - Train Accuracy: 0.7568, Validation Accuracy: 0.8002, Loss: 2.8810\n",
      "Epoch   1 Batch   60/269 - Train Accuracy: 0.8089, Validation Accuracy: 0.7993, Loss: 2.8162\n",
      "Epoch   1 Batch   70/269 - Train Accuracy: 0.7973, Validation Accuracy: 0.7902, Loss: 2.8068\n",
      "Epoch   1 Batch   80/269 - Train Accuracy: 0.7877, Validation Accuracy: 0.8050, Loss: 2.7879\n",
      "Epoch   1 Batch   90/269 - Train Accuracy: 0.7611, Validation Accuracy: 0.7974, Loss: 2.8108\n",
      "Epoch   1 Batch  100/269 - Train Accuracy: 0.8270, Validation Accuracy: 0.8236, Loss: 2.7655\n",
      "Epoch   1 Batch  110/269 - Train Accuracy: 0.8288, Validation Accuracy: 0.8301, Loss: 2.7681\n",
      "Epoch   1 Batch  120/269 - Train Accuracy: 0.8223, Validation Accuracy: 0.8382, Loss: 2.8026\n",
      "Epoch   1 Batch  130/269 - Train Accuracy: 0.8421, Validation Accuracy: 0.8423, Loss: 2.7712\n",
      "Epoch   1 Batch  140/269 - Train Accuracy: 0.8389, Validation Accuracy: 0.8406, Loss: 2.7889\n",
      "Epoch   1 Batch  150/269 - Train Accuracy: 0.8580, Validation Accuracy: 0.8643, Loss: 2.7580\n",
      "Epoch   1 Batch  160/269 - Train Accuracy: 0.8655, Validation Accuracy: 0.8678, Loss: 2.7480\n",
      "Epoch   1 Batch  170/269 - Train Accuracy: 0.8580, Validation Accuracy: 0.8735, Loss: 2.6949\n",
      "Epoch   1 Batch  180/269 - Train Accuracy: 0.8875, Validation Accuracy: 0.8759, Loss: 2.7358\n",
      "Epoch   1 Batch  190/269 - Train Accuracy: 0.8842, Validation Accuracy: 0.8768, Loss: 2.6920\n",
      "Epoch   1 Batch  200/269 - Train Accuracy: 0.8678, Validation Accuracy: 0.8794, Loss: 2.7303\n",
      "Epoch   1 Batch  210/269 - Train Accuracy: 0.8808, Validation Accuracy: 0.8940, Loss: 2.6657\n",
      "Epoch   1 Batch  220/269 - Train Accuracy: 0.9000, Validation Accuracy: 0.8825, Loss: 2.7144\n",
      "Epoch   1 Batch  230/269 - Train Accuracy: 0.9083, Validation Accuracy: 0.8901, Loss: 2.6781\n",
      "Epoch   1 Batch  240/269 - Train Accuracy: 0.9100, Validation Accuracy: 0.8963, Loss: 2.6713\n",
      "Epoch   1 Batch  250/269 - Train Accuracy: 0.8994, Validation Accuracy: 0.8851, Loss: 2.6951\n",
      "Epoch   1 Batch  260/269 - Train Accuracy: 0.8812, Validation Accuracy: 0.9025, Loss: 2.6674\n",
      "Epoch   2 Batch   10/269 - Train Accuracy: 0.9028, Validation Accuracy: 0.9016, Loss: 2.6388\n",
      "Epoch   2 Batch   20/269 - Train Accuracy: 0.9070, Validation Accuracy: 0.9096, Loss: 2.6936\n",
      "Epoch   2 Batch   30/269 - Train Accuracy: 0.9050, Validation Accuracy: 0.9045, Loss: 2.6788\n",
      "Epoch   2 Batch   40/269 - Train Accuracy: 0.9022, Validation Accuracy: 0.9034, Loss: 2.7082\n",
      "Epoch   2 Batch   50/269 - Train Accuracy: 0.9028, Validation Accuracy: 0.9102, Loss: 2.6968\n",
      "Epoch   2 Batch   60/269 - Train Accuracy: 0.9101, Validation Accuracy: 0.9061, Loss: 2.6574\n",
      "Epoch   2 Batch   70/269 - Train Accuracy: 0.9211, Validation Accuracy: 0.9108, Loss: 2.6930\n",
      "Epoch   2 Batch   80/269 - Train Accuracy: 0.9156, Validation Accuracy: 0.9213, Loss: 2.6435\n",
      "Epoch   2 Batch   90/269 - Train Accuracy: 0.9137, Validation Accuracy: 0.9123, Loss: 2.6653\n",
      "Epoch   2 Batch  100/269 - Train Accuracy: 0.9236, Validation Accuracy: 0.9189, Loss: 2.6463\n",
      "Epoch   2 Batch  110/269 - Train Accuracy: 0.9142, Validation Accuracy: 0.9247, Loss: 2.6414\n",
      "Epoch   2 Batch  120/269 - Train Accuracy: 0.9229, Validation Accuracy: 0.9293, Loss: 2.6750\n",
      "Epoch   2 Batch  130/269 - Train Accuracy: 0.9362, Validation Accuracy: 0.9176, Loss: 2.6477\n",
      "Epoch   2 Batch  140/269 - Train Accuracy: 0.9219, Validation Accuracy: 0.9197, Loss: 2.6583\n",
      "Epoch   2 Batch  150/269 - Train Accuracy: 0.9197, Validation Accuracy: 0.9135, Loss: 2.6290\n",
      "Epoch   2 Batch  160/269 - Train Accuracy: 0.9291, Validation Accuracy: 0.9105, Loss: 2.6246\n",
      "Epoch   2 Batch  170/269 - Train Accuracy: 0.9169, Validation Accuracy: 0.9313, Loss: 2.6565\n",
      "Epoch   2 Batch  180/269 - Train Accuracy: 0.9346, Validation Accuracy: 0.9334, Loss: 2.6298\n",
      "Epoch   2 Batch  190/269 - Train Accuracy: 0.9244, Validation Accuracy: 0.9157, Loss: 2.6949\n",
      "Epoch   2 Batch  200/269 - Train Accuracy: 0.9185, Validation Accuracy: 0.9246, Loss: 2.6322\n",
      "Epoch   2 Batch  210/269 - Train Accuracy: 0.9225, Validation Accuracy: 0.9237, Loss: 2.6321\n",
      "Epoch   2 Batch  220/269 - Train Accuracy: 0.9320, Validation Accuracy: 0.9327, Loss: 2.6769\n",
      "Epoch   2 Batch  230/269 - Train Accuracy: 0.9334, Validation Accuracy: 0.9288, Loss: 2.6607\n",
      "Epoch   2 Batch  240/269 - Train Accuracy: 0.9344, Validation Accuracy: 0.9353, Loss: 2.6254\n",
      "Epoch   2 Batch  250/269 - Train Accuracy: 0.9388, Validation Accuracy: 0.9328, Loss: 2.6612\n",
      "Epoch   2 Batch  260/269 - Train Accuracy: 0.9227, Validation Accuracy: 0.9413, Loss: 2.6611\n",
      "Epoch   3 Batch   10/269 - Train Accuracy: 0.9357, Validation Accuracy: 0.9351, Loss: 2.6378\n",
      "Epoch   3 Batch   20/269 - Train Accuracy: 0.9334, Validation Accuracy: 0.9350, Loss: 2.6694\n",
      "Epoch   3 Batch   30/269 - Train Accuracy: 0.9422, Validation Accuracy: 0.9354, Loss: 2.6561\n",
      "Epoch   3 Batch   40/269 - Train Accuracy: 0.9350, Validation Accuracy: 0.9426, Loss: 2.6385\n",
      "Epoch   3 Batch   50/269 - Train Accuracy: 0.9248, Validation Accuracy: 0.9380, Loss: 2.6205\n",
      "Epoch   3 Batch   60/269 - Train Accuracy: 0.9331, Validation Accuracy: 0.9444, Loss: 2.6730\n",
      "Epoch   3 Batch   70/269 - Train Accuracy: 0.9394, Validation Accuracy: 0.9333, Loss: 2.6273\n",
      "Epoch   3 Batch   80/269 - Train Accuracy: 0.9378, Validation Accuracy: 0.9389, Loss: 2.6308\n",
      "Epoch   3 Batch   90/269 - Train Accuracy: 0.9224, Validation Accuracy: 0.9260, Loss: 2.6340\n",
      "Epoch   3 Batch  100/269 - Train Accuracy: 0.9506, Validation Accuracy: 0.9403, Loss: 2.6392\n",
      "Epoch   3 Batch  110/269 - Train Accuracy: 0.9372, Validation Accuracy: 0.9411, Loss: 2.6355\n",
      "Epoch   3 Batch  120/269 - Train Accuracy: 0.9340, Validation Accuracy: 0.9410, Loss: 2.6296\n",
      "Epoch   3 Batch  130/269 - Train Accuracy: 0.9419, Validation Accuracy: 0.9354, Loss: 2.6692\n",
      "Epoch   3 Batch  140/269 - Train Accuracy: 0.9476, Validation Accuracy: 0.9355, Loss: 2.6171\n",
      "Epoch   3 Batch  150/269 - Train Accuracy: 0.9485, Validation Accuracy: 0.9423, Loss: 2.6494\n",
      "Epoch   3 Batch  160/269 - Train Accuracy: 0.9475, Validation Accuracy: 0.9458, Loss: 2.6087\n",
      "Epoch   3 Batch  170/269 - Train Accuracy: 0.9423, Validation Accuracy: 0.9502, Loss: 2.6496\n",
      "Epoch   3 Batch  180/269 - Train Accuracy: 0.9542, Validation Accuracy: 0.9478, Loss: 2.6640\n",
      "Epoch   3 Batch  190/269 - Train Accuracy: 0.9378, Validation Accuracy: 0.9452, Loss: 2.6077\n",
      "Epoch   3 Batch  200/269 - Train Accuracy: 0.9480, Validation Accuracy: 0.9518, Loss: 2.6054\n",
      "Epoch   3 Batch  210/269 - Train Accuracy: 0.9545, Validation Accuracy: 0.9513, Loss: 2.6307\n",
      "Epoch   3 Batch  220/269 - Train Accuracy: 0.9477, Validation Accuracy: 0.9537, Loss: 2.6720\n",
      "Epoch   3 Batch  230/269 - Train Accuracy: 0.9599, Validation Accuracy: 0.9538, Loss: 2.6739\n",
      "Epoch   3 Batch  240/269 - Train Accuracy: 0.9533, Validation Accuracy: 0.9553, Loss: 2.6458\n",
      "Epoch   3 Batch  250/269 - Train Accuracy: 0.9449, Validation Accuracy: 0.9482, Loss: 2.6329\n",
      "Epoch   3 Batch  260/269 - Train Accuracy: 0.9436, Validation Accuracy: 0.9486, Loss: 2.5798\n",
      "Epoch   4 Batch   10/269 - Train Accuracy: 0.9639, Validation Accuracy: 0.9605, Loss: 2.6528\n",
      "Epoch   4 Batch   20/269 - Train Accuracy: 0.9512, Validation Accuracy: 0.9539, Loss: 2.6205\n",
      "Epoch   4 Batch   30/269 - Train Accuracy: 0.9530, Validation Accuracy: 0.9508, Loss: 2.6459\n",
      "Epoch   4 Batch   40/269 - Train Accuracy: 0.9479, Validation Accuracy: 0.9521, Loss: 2.5920\n",
      "Epoch   4 Batch   50/269 - Train Accuracy: 0.9399, Validation Accuracy: 0.9545, Loss: 2.6388\n",
      "Epoch   4 Batch   60/269 - Train Accuracy: 0.9456, Validation Accuracy: 0.9620, Loss: 2.6084\n",
      "Epoch   4 Batch   70/269 - Train Accuracy: 0.9432, Validation Accuracy: 0.9489, Loss: 2.6287\n",
      "Epoch   4 Batch   80/269 - Train Accuracy: 0.9563, Validation Accuracy: 0.9490, Loss: 2.6065\n",
      "Epoch   4 Batch   90/269 - Train Accuracy: 0.9540, Validation Accuracy: 0.9512, Loss: 2.6435\n",
      "Epoch   4 Batch  100/269 - Train Accuracy: 0.9573, Validation Accuracy: 0.9547, Loss: 2.6237\n",
      "Epoch   4 Batch  110/269 - Train Accuracy: 0.9541, Validation Accuracy: 0.9601, Loss: 2.6298\n",
      "Epoch   4 Batch  120/269 - Train Accuracy: 0.9499, Validation Accuracy: 0.9577, Loss: 2.6172\n",
      "Epoch   4 Batch  130/269 - Train Accuracy: 0.9610, Validation Accuracy: 0.9543, Loss: 2.6285\n",
      "Epoch   4 Batch  140/269 - Train Accuracy: 0.9515, Validation Accuracy: 0.9512, Loss: 2.6209\n",
      "Epoch   4 Batch  150/269 - Train Accuracy: 0.9528, Validation Accuracy: 0.9518, Loss: 2.6270\n",
      "Epoch   4 Batch  160/269 - Train Accuracy: 0.9594, Validation Accuracy: 0.9570, Loss: 2.5850\n",
      "Epoch   4 Batch  170/269 - Train Accuracy: 0.9471, Validation Accuracy: 0.9583, Loss: 2.5897\n",
      "Epoch   4 Batch  180/269 - Train Accuracy: 0.9584, Validation Accuracy: 0.9606, Loss: 2.6359\n",
      "Epoch   4 Batch  190/269 - Train Accuracy: 0.9612, Validation Accuracy: 0.9524, Loss: 2.6028\n",
      "Epoch   4 Batch  200/269 - Train Accuracy: 0.9611, Validation Accuracy: 0.9609, Loss: 2.6057\n",
      "Epoch   4 Batch  210/269 - Train Accuracy: 0.9514, Validation Accuracy: 0.9460, Loss: 2.6228\n",
      "Epoch   4 Batch  220/269 - Train Accuracy: 0.9565, Validation Accuracy: 0.9572, Loss: 2.6008\n",
      "Epoch   4 Batch  230/269 - Train Accuracy: 0.9621, Validation Accuracy: 0.9591, Loss: 2.5909\n",
      "Epoch   4 Batch  240/269 - Train Accuracy: 0.9622, Validation Accuracy: 0.9564, Loss: 2.5961\n",
      "Epoch   4 Batch  250/269 - Train Accuracy: 0.9614, Validation Accuracy: 0.9585, Loss: 2.6495\n",
      "Epoch   4 Batch  260/269 - Train Accuracy: 0.9594, Validation Accuracy: 0.9597, Loss: 2.5946\n",
      "Epoch   5 Batch   10/269 - Train Accuracy: 0.9653, Validation Accuracy: 0.9653, Loss: 2.6665\n",
      "Epoch   5 Batch   20/269 - Train Accuracy: 0.9647, Validation Accuracy: 0.9578, Loss: 2.5739\n",
      "Epoch   5 Batch   30/269 - Train Accuracy: 0.9634, Validation Accuracy: 0.9623, Loss: 2.5934\n",
      "Epoch   5 Batch   40/269 - Train Accuracy: 0.9588, Validation Accuracy: 0.9636, Loss: 2.6215\n",
      "Epoch   5 Batch   50/269 - Train Accuracy: 0.9558, Validation Accuracy: 0.9613, Loss: 2.6504\n",
      "Epoch   5 Batch   60/269 - Train Accuracy: 0.9610, Validation Accuracy: 0.9655, Loss: 2.6379\n",
      "Epoch   5 Batch   70/269 - Train Accuracy: 0.9590, Validation Accuracy: 0.9590, Loss: 2.6516\n",
      "Epoch   5 Batch   80/269 - Train Accuracy: 0.9594, Validation Accuracy: 0.9643, Loss: 2.6453\n",
      "Epoch   5 Batch   90/269 - Train Accuracy: 0.9662, Validation Accuracy: 0.9566, Loss: 2.5917\n",
      "Epoch   5 Batch  100/269 - Train Accuracy: 0.9695, Validation Accuracy: 0.9670, Loss: 2.6495\n",
      "Epoch   5 Batch  110/269 - Train Accuracy: 0.9568, Validation Accuracy: 0.9561, Loss: 2.6672\n",
      "Epoch   5 Batch  120/269 - Train Accuracy: 0.9546, Validation Accuracy: 0.9543, Loss: 2.6390\n",
      "Epoch   5 Batch  130/269 - Train Accuracy: 0.9519, Validation Accuracy: 0.9382, Loss: 2.6308\n",
      "Epoch   5 Batch  140/269 - Train Accuracy: 0.9611, Validation Accuracy: 0.9637, Loss: 2.5948\n",
      "Epoch   5 Batch  150/269 - Train Accuracy: 0.9663, Validation Accuracy: 0.9581, Loss: 2.6336\n",
      "Epoch   5 Batch  160/269 - Train Accuracy: 0.9670, Validation Accuracy: 0.9706, Loss: 2.6642\n",
      "Epoch   5 Batch  170/269 - Train Accuracy: 0.9625, Validation Accuracy: 0.9672, Loss: 2.5871\n",
      "Epoch   5 Batch  180/269 - Train Accuracy: 0.9709, Validation Accuracy: 0.9653, Loss: 2.5892\n",
      "Epoch   5 Batch  190/269 - Train Accuracy: 0.9587, Validation Accuracy: 0.9616, Loss: 2.6387\n",
      "Epoch   5 Batch  200/269 - Train Accuracy: 0.9694, Validation Accuracy: 0.9650, Loss: 2.6405\n",
      "Epoch   5 Batch  210/269 - Train Accuracy: 0.9676, Validation Accuracy: 0.9636, Loss: 2.5574\n",
      "Epoch   5 Batch  220/269 - Train Accuracy: 0.9556, Validation Accuracy: 0.9633, Loss: 2.6132\n",
      "Epoch   5 Batch  230/269 - Train Accuracy: 0.9711, Validation Accuracy: 0.9643, Loss: 2.5656\n",
      "Epoch   5 Batch  240/269 - Train Accuracy: 0.9690, Validation Accuracy: 0.9665, Loss: 2.6199\n",
      "Epoch   5 Batch  250/269 - Train Accuracy: 0.9726, Validation Accuracy: 0.9686, Loss: 2.6083\n",
      "Epoch   5 Batch  260/269 - Train Accuracy: 0.9664, Validation Accuracy: 0.9616, Loss: 2.6290\n",
      "Epoch   6 Batch   10/269 - Train Accuracy: 0.9766, Validation Accuracy: 0.9716, Loss: 2.6096\n",
      "Epoch   6 Batch   20/269 - Train Accuracy: 0.9604, Validation Accuracy: 0.9707, Loss: 2.6230\n",
      "Epoch   6 Batch   30/269 - Train Accuracy: 0.9723, Validation Accuracy: 0.9656, Loss: 2.5568\n",
      "Epoch   6 Batch   40/269 - Train Accuracy: 0.9663, Validation Accuracy: 0.9696, Loss: 2.5658\n",
      "Epoch   6 Batch   50/269 - Train Accuracy: 0.9472, Validation Accuracy: 0.9567, Loss: 2.6359\n",
      "Epoch   6 Batch   60/269 - Train Accuracy: 0.9648, Validation Accuracy: 0.9631, Loss: 2.6451\n",
      "Epoch   6 Batch   70/269 - Train Accuracy: 0.9659, Validation Accuracy: 0.9506, Loss: 2.6435\n",
      "Epoch   6 Batch   80/269 - Train Accuracy: 0.9760, Validation Accuracy: 0.9643, Loss: 2.6430\n",
      "Epoch   6 Batch   90/269 - Train Accuracy: 0.9783, Validation Accuracy: 0.9660, Loss: 2.6219\n",
      "Epoch   6 Batch  100/269 - Train Accuracy: 0.9669, Validation Accuracy: 0.9654, Loss: 2.6677\n",
      "Epoch   6 Batch  110/269 - Train Accuracy: 0.9567, Validation Accuracy: 0.9701, Loss: 2.6734\n",
      "Epoch   6 Batch  120/269 - Train Accuracy: 0.9636, Validation Accuracy: 0.9677, Loss: 2.6019\n",
      "Epoch   6 Batch  130/269 - Train Accuracy: 0.9738, Validation Accuracy: 0.9745, Loss: 2.5861\n",
      "Epoch   6 Batch  140/269 - Train Accuracy: 0.9764, Validation Accuracy: 0.9510, Loss: 2.6114\n",
      "Epoch   6 Batch  150/269 - Train Accuracy: 0.9667, Validation Accuracy: 0.9608, Loss: 2.6394\n",
      "Epoch   6 Batch  160/269 - Train Accuracy: 0.9781, Validation Accuracy: 0.9656, Loss: 2.6405\n",
      "Epoch   6 Batch  170/269 - Train Accuracy: 0.9699, Validation Accuracy: 0.9621, Loss: 2.6333\n",
      "Epoch   6 Batch  180/269 - Train Accuracy: 0.9767, Validation Accuracy: 0.9582, Loss: 2.6207\n",
      "Epoch   6 Batch  190/269 - Train Accuracy: 0.9668, Validation Accuracy: 0.9670, Loss: 2.5927\n",
      "Epoch   6 Batch  200/269 - Train Accuracy: 0.9766, Validation Accuracy: 0.9728, Loss: 2.6062\n",
      "Epoch   6 Batch  210/269 - Train Accuracy: 0.9773, Validation Accuracy: 0.9729, Loss: 2.6278\n",
      "Epoch   6 Batch  220/269 - Train Accuracy: 0.9631, Validation Accuracy: 0.9644, Loss: 2.6038\n",
      "Epoch   6 Batch  230/269 - Train Accuracy: 0.9688, Validation Accuracy: 0.9684, Loss: 2.6189\n",
      "Epoch   6 Batch  240/269 - Train Accuracy: 0.9754, Validation Accuracy: 0.9651, Loss: 2.6003\n",
      "Epoch   6 Batch  250/269 - Train Accuracy: 0.9696, Validation Accuracy: 0.9677, Loss: 2.6053\n",
      "Epoch   6 Batch  260/269 - Train Accuracy: 0.9708, Validation Accuracy: 0.9629, Loss: 2.6304\n",
      "Epoch   7 Batch   10/269 - Train Accuracy: 0.9812, Validation Accuracy: 0.9644, Loss: 2.6031\n",
      "Epoch   7 Batch   20/269 - Train Accuracy: 0.9746, Validation Accuracy: 0.9798, Loss: 2.6261\n",
      "Epoch   7 Batch   30/269 - Train Accuracy: 0.9648, Validation Accuracy: 0.9621, Loss: 2.6116\n",
      "Epoch   7 Batch   40/269 - Train Accuracy: 0.9646, Validation Accuracy: 0.9730, Loss: 2.6009\n",
      "Epoch   7 Batch   50/269 - Train Accuracy: 0.9590, Validation Accuracy: 0.9765, Loss: 2.6251\n",
      "Epoch   7 Batch   60/269 - Train Accuracy: 0.9713, Validation Accuracy: 0.9673, Loss: 2.6236\n",
      "Epoch   7 Batch   70/269 - Train Accuracy: 0.9756, Validation Accuracy: 0.9719, Loss: 2.6138\n",
      "Epoch   7 Batch   80/269 - Train Accuracy: 0.9694, Validation Accuracy: 0.9658, Loss: 2.5970\n",
      "Epoch   7 Batch   90/269 - Train Accuracy: 0.9762, Validation Accuracy: 0.9667, Loss: 2.6034\n",
      "Epoch   7 Batch  100/269 - Train Accuracy: 0.9752, Validation Accuracy: 0.9713, Loss: 2.6236\n",
      "Epoch   7 Batch  110/269 - Train Accuracy: 0.9717, Validation Accuracy: 0.9691, Loss: 2.5809\n",
      "Epoch   7 Batch  120/269 - Train Accuracy: 0.9693, Validation Accuracy: 0.9692, Loss: 2.6538\n",
      "Epoch   7 Batch  130/269 - Train Accuracy: 0.9709, Validation Accuracy: 0.9641, Loss: 2.6062\n",
      "Epoch   7 Batch  140/269 - Train Accuracy: 0.9744, Validation Accuracy: 0.9710, Loss: 2.6022\n",
      "Epoch   7 Batch  150/269 - Train Accuracy: 0.9698, Validation Accuracy: 0.9658, Loss: 2.6493\n",
      "Epoch   7 Batch  160/269 - Train Accuracy: 0.9750, Validation Accuracy: 0.9657, Loss: 2.6111\n",
      "Epoch   7 Batch  170/269 - Train Accuracy: 0.9702, Validation Accuracy: 0.9748, Loss: 2.6016\n",
      "Epoch   7 Batch  180/269 - Train Accuracy: 0.9819, Validation Accuracy: 0.9787, Loss: 2.5708\n",
      "Epoch   7 Batch  190/269 - Train Accuracy: 0.9773, Validation Accuracy: 0.9696, Loss: 2.6317\n",
      "Epoch   7 Batch  200/269 - Train Accuracy: 0.9825, Validation Accuracy: 0.9758, Loss: 2.5892\n",
      "Epoch   7 Batch  210/269 - Train Accuracy: 0.9778, Validation Accuracy: 0.9717, Loss: 2.6355\n",
      "Epoch   7 Batch  220/269 - Train Accuracy: 0.9668, Validation Accuracy: 0.9718, Loss: 2.6231\n",
      "Epoch   7 Batch  230/269 - Train Accuracy: 0.9770, Validation Accuracy: 0.9770, Loss: 2.6058\n",
      "Epoch   7 Batch  240/269 - Train Accuracy: 0.9778, Validation Accuracy: 0.9781, Loss: 2.6005\n",
      "Epoch   7 Batch  250/269 - Train Accuracy: 0.9723, Validation Accuracy: 0.9793, Loss: 2.5961\n",
      "Epoch   7 Batch  260/269 - Train Accuracy: 0.9719, Validation Accuracy: 0.9757, Loss: 2.6269\n",
      "Epoch   8 Batch   10/269 - Train Accuracy: 0.9851, Validation Accuracy: 0.9754, Loss: 2.6343\n",
      "Epoch   8 Batch   20/269 - Train Accuracy: 0.9812, Validation Accuracy: 0.9758, Loss: 2.5938\n",
      "Epoch   8 Batch   30/269 - Train Accuracy: 0.9701, Validation Accuracy: 0.9731, Loss: 2.5906\n",
      "Epoch   8 Batch   40/269 - Train Accuracy: 0.9751, Validation Accuracy: 0.9668, Loss: 2.6537\n",
      "Epoch   8 Batch   50/269 - Train Accuracy: 0.9655, Validation Accuracy: 0.9777, Loss: 2.6464\n",
      "Epoch   8 Batch   60/269 - Train Accuracy: 0.9773, Validation Accuracy: 0.9794, Loss: 2.6186\n",
      "Epoch   8 Batch   70/269 - Train Accuracy: 0.9791, Validation Accuracy: 0.9739, Loss: 2.6312\n",
      "Epoch   8 Batch   80/269 - Train Accuracy: 0.9769, Validation Accuracy: 0.9718, Loss: 2.6314\n",
      "Epoch   8 Batch   90/269 - Train Accuracy: 0.9748, Validation Accuracy: 0.9754, Loss: 2.6037\n",
      "Epoch   8 Batch  100/269 - Train Accuracy: 0.9776, Validation Accuracy: 0.9824, Loss: 2.6758\n",
      "Epoch   8 Batch  110/269 - Train Accuracy: 0.9712, Validation Accuracy: 0.9654, Loss: 2.6384\n",
      "Epoch   8 Batch  120/269 - Train Accuracy: 0.9738, Validation Accuracy: 0.9703, Loss: 2.5942\n",
      "Epoch   8 Batch  130/269 - Train Accuracy: 0.9795, Validation Accuracy: 0.9699, Loss: 2.6055\n",
      "Epoch   8 Batch  140/269 - Train Accuracy: 0.9769, Validation Accuracy: 0.9614, Loss: 2.6122\n",
      "Epoch   8 Batch  150/269 - Train Accuracy: 0.9739, Validation Accuracy: 0.9628, Loss: 2.6241\n",
      "Epoch   8 Batch  160/269 - Train Accuracy: 0.9757, Validation Accuracy: 0.9735, Loss: 2.6014\n",
      "Epoch   8 Batch  170/269 - Train Accuracy: 0.9754, Validation Accuracy: 0.9784, Loss: 2.6556\n",
      "Epoch   8 Batch  180/269 - Train Accuracy: 0.9838, Validation Accuracy: 0.9688, Loss: 2.5953\n",
      "Epoch   8 Batch  190/269 - Train Accuracy: 0.9795, Validation Accuracy: 0.9727, Loss: 2.6325\n",
      "Epoch   8 Batch  200/269 - Train Accuracy: 0.9846, Validation Accuracy: 0.9775, Loss: 2.6179\n",
      "Epoch   8 Batch  210/269 - Train Accuracy: 0.9784, Validation Accuracy: 0.9791, Loss: 2.5900\n",
      "Epoch   8 Batch  220/269 - Train Accuracy: 0.9708, Validation Accuracy: 0.9745, Loss: 2.6054\n",
      "Epoch   8 Batch  230/269 - Train Accuracy: 0.9803, Validation Accuracy: 0.9731, Loss: 2.5997\n",
      "Epoch   8 Batch  240/269 - Train Accuracy: 0.9777, Validation Accuracy: 0.9682, Loss: 2.6228\n",
      "Epoch   8 Batch  250/269 - Train Accuracy: 0.9773, Validation Accuracy: 0.9710, Loss: 2.5677\n",
      "Epoch   8 Batch  260/269 - Train Accuracy: 0.9782, Validation Accuracy: 0.9689, Loss: 2.6165\n",
      "Model Trained and Saved\n"
     ]
    }
   ],
   "source": [
    "\"\"\"\n",
    "DON'T MODIFY ANYTHING IN THIS CELL\n",
    "\"\"\"\n",
    "def get_accuracy(target, logits):\n",
    "    \"\"\"\n",
    "    Calculate accuracy\n",
    "    \"\"\"\n",
    "    max_seq = max(target.shape[1], logits.shape[1])\n",
    "    if max_seq - target.shape[1]:\n",
    "        target = np.pad(\n",
    "            target,\n",
    "            [(0,0),(0,max_seq - target.shape[1])],\n",
    "            'constant')\n",
    "    if max_seq - logits.shape[1]:\n",
    "        logits = np.pad(\n",
    "            logits,\n",
    "            [(0,0),(0,max_seq - logits.shape[1])],\n",
    "            'constant')\n",
    "\n",
    "    return np.mean(np.equal(target, logits))\n",
    "\n",
    "# Split data to training and validation sets\n",
    "train_source = source_int_text[batch_size:]\n",
    "train_target = target_int_text[batch_size:]\n",
    "valid_source = source_int_text[:batch_size]\n",
    "valid_target = target_int_text[:batch_size]\n",
    "(valid_sources_batch, valid_targets_batch, valid_sources_lengths, valid_targets_lengths ) = next(get_batches(valid_source,\n",
    "                                                                                                             valid_target,\n",
    "                                                                                                             batch_size,\n",
    "                                                                                                             source_vocab_to_int['<PAD>'],\n",
    "                                                                                                             target_vocab_to_int['<PAD>']))                                                                                                  \n",
    "with tf.Session(graph=train_graph) as sess:\n",
    "    sess.run(tf.global_variables_initializer())\n",
    "\n",
    "    for epoch_i in range(epochs):\n",
    "        for batch_i, (source_batch, target_batch, sources_lengths, targets_lengths) in enumerate(\n",
    "                get_batches(train_source, train_target, batch_size,\n",
    "                            source_vocab_to_int['<PAD>'],\n",
    "                            target_vocab_to_int['<PAD>'])):\n",
    "\n",
    "            _, loss = sess.run(\n",
    "                [train_op, cost],\n",
    "                {input_data: source_batch,\n",
    "                 targets: target_batch,\n",
    "                 lr: learning_rate,\n",
    "                 target_sequence_length: targets_lengths,\n",
    "                 source_sequence_length: sources_lengths,\n",
    "                 keep_prob: keep_probability})\n",
    "\n",
    "\n",
    "            if batch_i % display_step == 0 and batch_i > 0:\n",
    "\n",
    "\n",
    "                batch_train_logits = sess.run(\n",
    "                    inference_logits,\n",
    "                    {input_data: source_batch,\n",
    "                     source_sequence_length: sources_lengths,\n",
    "                     target_sequence_length: targets_lengths,\n",
    "                     keep_prob: 1.0})\n",
    "\n",
    "\n",
    "                batch_valid_logits = sess.run(\n",
    "                    inference_logits,\n",
    "                    {input_data: valid_sources_batch,\n",
    "                     source_sequence_length: valid_sources_lengths,\n",
    "                     target_sequence_length: valid_targets_lengths,\n",
    "                     keep_prob: 1.0})\n",
    "\n",
    "                train_acc = get_accuracy(target_batch, batch_train_logits)\n",
    "\n",
    "                valid_acc = get_accuracy(valid_targets_batch, batch_valid_logits)\n",
    "\n",
    "                print('Epoch {:>3} Batch {:>4}/{} - Train Accuracy: {:>6.4f}, Validation Accuracy: {:>6.4f}, Loss: {:>6.4f}'\n",
    "                      .format(epoch_i, batch_i, len(source_int_text) // batch_size, train_acc, valid_acc, loss))\n",
    "\n",
    "    # Save Model\n",
    "    saver = tf.train.Saver()\n",
    "    saver.save(sess, save_path)\n",
    "    print('Model Trained and Saved')"
   ]
  },
  {
   "cell_type": "markdown",
   "metadata": {},
   "source": [
    "### Save Parameters\n",
    "Save the `batch_size` and `save_path` parameters for inference."
   ]
  },
  {
   "cell_type": "code",
   "execution_count": 83,
   "metadata": {
    "collapsed": true
   },
   "outputs": [],
   "source": [
    "\"\"\"\n",
    "DON'T MODIFY ANYTHING IN THIS CELL\n",
    "\"\"\"\n",
    "# Save parameters for checkpoint\n",
    "helper.save_params(save_path)"
   ]
  },
  {
   "cell_type": "markdown",
   "metadata": {},
   "source": [
    "# Checkpoint"
   ]
  },
  {
   "cell_type": "code",
   "execution_count": 84,
   "metadata": {
    "collapsed": true
   },
   "outputs": [],
   "source": [
    "\"\"\"\n",
    "DON'T MODIFY ANYTHING IN THIS CELL\n",
    "\"\"\"\n",
    "import tensorflow as tf\n",
    "import numpy as np\n",
    "import helper\n",
    "import problem_unittests as tests\n",
    "\n",
    "_, (source_vocab_to_int, target_vocab_to_int), (source_int_to_vocab, target_int_to_vocab) = helper.load_preprocess()\n",
    "load_path = helper.load_params()"
   ]
  },
  {
   "cell_type": "markdown",
   "metadata": {},
   "source": [
    "## Sentence to Sequence\n",
    "To feed a sentence into the model for translation, you first need to preprocess it.  Implement the function `sentence_to_seq()` to preprocess new sentences.\n",
    "\n",
    "- Convert the sentence to lowercase\n",
    "- Convert words into ids using `vocab_to_int`\n",
    " - Convert words not in the vocabulary, to the `<UNK>` word id."
   ]
  },
  {
   "cell_type": "code",
   "execution_count": 85,
   "metadata": {
    "collapsed": false
   },
   "outputs": [
    {
     "name": "stdout",
     "output_type": "stream",
     "text": [
      "Tests Passed\n"
     ]
    }
   ],
   "source": [
    "def sentence_to_seq(sentence, vocab_to_int):\n",
    "    \"\"\"\n",
    "    Convert a sentence to a sequence of ids\n",
    "    :param sentence: String\n",
    "    :param vocab_to_int: Dictionary to go from the words to an id\n",
    "    :return: List of word ids\n",
    "    \"\"\"\n",
    "    # TODO: Implement Function\n",
    "\n",
    "    dont_know = vocab_to_int['<UNK>']\n",
    "    phrase = sentence.lower()\n",
    "    return [vocab_to_int.get(w, dont_know) for w in phrase.split()]\n",
    "    \n",
    "\"\"\"\n",
    "DON'T MODIFY ANYTHING IN THIS CELL THAT IS BELOW THIS LINE\n",
    "\"\"\"\n",
    "tests.test_sentence_to_seq(sentence_to_seq)"
   ]
  },
  {
   "cell_type": "markdown",
   "metadata": {},
   "source": [
    "## Translate\n",
    "This will translate `translate_sentence` from English to French."
   ]
  },
  {
   "cell_type": "code",
   "execution_count": 86,
   "metadata": {
    "collapsed": false
   },
   "outputs": [
    {
     "name": "stdout",
     "output_type": "stream",
     "text": [
      "INFO:tensorflow:Restoring parameters from checkpoints/dev\n",
      "Input\n",
      "  Word Ids:      [131, 83, 25, 88, 18, 33, 39]\n",
      "  English Words: ['he', 'saw', 'a', 'old', 'yellow', 'truck', '.']\n",
      "\n",
      "Prediction\n",
      "  Word Ids:      [221, 101, 42, 212, 127, 250, 197, 196, 1]\n",
      "  French Words: il a vu un vieux camion jaune . <EOS>\n"
     ]
    }
   ],
   "source": [
    "translate_sentence = 'he saw a old yellow truck .'\n",
    "\n",
    "\n",
    "\"\"\"\n",
    "DON'T MODIFY ANYTHING IN THIS CELL\n",
    "\"\"\"\n",
    "translate_sentence = sentence_to_seq(translate_sentence, source_vocab_to_int)\n",
    "\n",
    "loaded_graph = tf.Graph()\n",
    "with tf.Session(graph=loaded_graph) as sess:\n",
    "    # Load saved model\n",
    "    loader = tf.train.import_meta_graph(load_path + '.meta')\n",
    "    loader.restore(sess, load_path)\n",
    "\n",
    "    input_data = loaded_graph.get_tensor_by_name('input:0')\n",
    "    logits = loaded_graph.get_tensor_by_name('predictions:0')\n",
    "    target_sequence_length = loaded_graph.get_tensor_by_name('target_sequence_length:0')\n",
    "    source_sequence_length = loaded_graph.get_tensor_by_name('source_sequence_length:0')\n",
    "    keep_prob = loaded_graph.get_tensor_by_name('keep_prob:0')\n",
    "\n",
    "    translate_logits = sess.run(logits, {input_data: [translate_sentence]*batch_size,\n",
    "                                         target_sequence_length: [len(translate_sentence)*2]*batch_size,\n",
    "                                         source_sequence_length: [len(translate_sentence)]*batch_size,\n",
    "                                         keep_prob: 1.0})[0]\n",
    "\n",
    "print('Input')\n",
    "print('  Word Ids:      {}'.format([i for i in translate_sentence]))\n",
    "print('  English Words: {}'.format([source_int_to_vocab[i] for i in translate_sentence]))\n",
    "\n",
    "print('\\nPrediction')\n",
    "print('  Word Ids:      {}'.format([i for i in translate_logits]))\n",
    "print('  French Words: {}'.format(\" \".join([target_int_to_vocab[i] for i in translate_logits])))\n"
   ]
  },
  {
   "cell_type": "markdown",
   "metadata": {},
   "source": [
    "## Imperfect Translation\n",
    "You might notice that some sentences translate better than others.  Since the dataset you're using only has a vocabulary of 227 English words of the thousands that you use, you're only going to see good results using these words.  For this project, you don't need a perfect translation. However, if you want to create a better translation model, you'll need better data.\n",
    "\n",
    "You can train on the [WMT10 French-English corpus](http://www.statmt.org/wmt10/training-giga-fren.tar).  This dataset has more vocabulary and richer in topics discussed.  However, this will take you days to train, so make sure you've a GPU and the neural network is performing well on dataset we provided.  Just make sure you play with the WMT10 corpus after you've submitted this project.\n",
    "## Submitting This Project\n",
    "When submitting this project, make sure to run all the cells before saving the notebook. Save the notebook file as \"dlnd_language_translation.ipynb\" and save it as a HTML file under \"File\" -> \"Download as\". Include the \"helper.py\" and \"problem_unittests.py\" files in your submission."
   ]
  }
 ],
 "metadata": {
  "anaconda-cloud": {},
  "kernelspec": {
   "display_name": "Python 3",
   "language": "python",
   "name": "python3"
  },
  "language_info": {
   "codemirror_mode": {
    "name": "ipython",
    "version": 3
   },
   "file_extension": ".py",
   "mimetype": "text/x-python",
   "name": "python",
   "nbconvert_exporter": "python",
   "pygments_lexer": "ipython3",
   "version": "3.5.2"
  }
 },
 "nbformat": 4,
 "nbformat_minor": 1
}
