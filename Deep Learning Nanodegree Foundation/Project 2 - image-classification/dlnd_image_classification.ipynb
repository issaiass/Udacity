{
 "cells": [
  {
   "cell_type": "markdown",
   "metadata": {
    "collapsed": true,
    "deletable": true,
    "editable": true
   },
   "source": [
    "# Image Classification\n",
    "In this project, you'll classify images from the [CIFAR-10 dataset](https://www.cs.toronto.edu/~kriz/cifar.html).  The dataset consists of airplanes, dogs, cats, and other objects. You'll preprocess the images, then train a convolutional neural network on all the samples. The images need to be normalized and the labels need to be one-hot encoded.  You'll get to apply what you learned and build a convolutional, max pooling, dropout, and fully connected layers.  At the end, you'll get to see your neural network's predictions on the sample images.\n",
    "## Get the Data\n",
    "Run the following cell to download the [CIFAR-10 dataset for python](https://www.cs.toronto.edu/~kriz/cifar-10-python.tar.gz)."
   ]
  },
  {
   "cell_type": "code",
   "execution_count": 1,
   "metadata": {
    "collapsed": false,
    "deletable": true,
    "editable": true
   },
   "outputs": [
    {
     "name": "stdout",
     "output_type": "stream",
     "text": [
      "All files found!\n"
     ]
    }
   ],
   "source": [
    "\"\"\"\n",
    "DON'T MODIFY ANYTHING IN THIS CELL THAT IS BELOW THIS LINE\n",
    "\"\"\"\n",
    "from urllib.request import urlretrieve\n",
    "from os.path import isfile, isdir\n",
    "from tqdm import tqdm\n",
    "import problem_unittests as tests\n",
    "import tarfile\n",
    "\n",
    "cifar10_dataset_folder_path = 'cifar-10-batches-py'\n",
    "\n",
    "class DLProgress(tqdm):\n",
    "    last_block = 0\n",
    "\n",
    "    def hook(self, block_num=1, block_size=1, total_size=None):\n",
    "        self.total = total_size\n",
    "        self.update((block_num - self.last_block) * block_size)\n",
    "        self.last_block = block_num\n",
    "\n",
    "if not isfile('cifar-10-python.tar.gz'):\n",
    "    with DLProgress(unit='B', unit_scale=True, miniters=1, desc='CIFAR-10 Dataset') as pbar:\n",
    "        urlretrieve(\n",
    "            'https://www.cs.toronto.edu/~kriz/cifar-10-python.tar.gz',\n",
    "            'cifar-10-python.tar.gz',\n",
    "            pbar.hook)\n",
    "\n",
    "if not isdir(cifar10_dataset_folder_path):\n",
    "    with tarfile.open('cifar-10-python.tar.gz') as tar:\n",
    "        tar.extractall()\n",
    "        tar.close()\n",
    "\n",
    "\n",
    "tests.test_folder_path(cifar10_dataset_folder_path)"
   ]
  },
  {
   "cell_type": "markdown",
   "metadata": {
    "deletable": true,
    "editable": true
   },
   "source": [
    "## Explore the Data\n",
    "The dataset is broken into batches to prevent your machine from running out of memory.  The CIFAR-10 dataset consists of 5 batches, named `data_batch_1`, `data_batch_2`, etc.. Each batch contains the labels and images that are one of the following:\n",
    "* airplane\n",
    "* automobile\n",
    "* bird\n",
    "* cat\n",
    "* deer\n",
    "* dog\n",
    "* frog\n",
    "* horse\n",
    "* ship\n",
    "* truck\n",
    "\n",
    "Understanding a dataset is part of making predictions on the data.  Play around with the code cell below by changing the `batch_id` and `sample_id`. The `batch_id` is the id for a batch (1-5). The `sample_id` is the id for a image and label pair in the batch.\n",
    "\n",
    "Ask yourself \"What are all possible labels?\", \"What is the range of values for the image data?\", \"Are the labels in order or random?\".  Answers to questions like these will help you preprocess the data and end up with better predictions."
   ]
  },
  {
   "cell_type": "code",
   "execution_count": 2,
   "metadata": {
    "collapsed": false,
    "deletable": true,
    "editable": true
   },
   "outputs": [
    {
     "name": "stdout",
     "output_type": "stream",
     "text": [
      "\n",
      "Stats of batch 5:\n",
      "Samples: 10000\n",
      "Label Counts: {0: 1014, 1: 1014, 2: 952, 3: 1016, 4: 997, 5: 1025, 6: 980, 7: 977, 8: 1003, 9: 1022}\n",
      "First 20 Labels: [1, 8, 5, 1, 5, 7, 4, 3, 8, 2, 7, 2, 0, 1, 5, 9, 6, 2, 0, 8]\n",
      "\n",
      "Example of Image 6:\n",
      "Image - Min Value: 12 Max Value: 188\n",
      "Image - Shape: (32, 32, 3)\n",
      "Label - Label Id: 4 Name: deer\n"
     ]
    },
    {
     "data": {
      "image/png": "[encoded data removed]",
      "text/plain": [
       "<matplotlib.figure.Figure at 0xcca843e748>"
      ]
     },
     "metadata": {
      "image/png": {
       "height": 250,
       "width": 253
      }
     },
     "output_type": "display_data"
    }
   ],
   "source": [
    "%matplotlib inline\n",
    "%config InlineBackend.figure_format = 'retina'\n",
    "\n",
    "import helper\n",
    "import numpy as np\n",
    "\n",
    "# Explore the dataset\n",
    "batch_id = 5\n",
    "sample_id = 6\n",
    "helper.display_stats(cifar10_dataset_folder_path, batch_id, sample_id)"
   ]
  },
  {
   "cell_type": "markdown",
   "metadata": {
    "deletable": true,
    "editable": true
   },
   "source": [
    "## Implement Preprocess Functions\n",
    "### Normalize\n",
    "In the cell below, implement the `normalize` function to take in image data, `x`, and return it as a normalized Numpy array. The values should be in the range of 0 to 1, inclusive.  The return object should be the same shape as `x`."
   ]
  },
  {
   "cell_type": "code",
   "execution_count": 3,
   "metadata": {
    "collapsed": false,
    "deletable": true,
    "editable": true
   },
   "outputs": [
    {
     "name": "stdout",
     "output_type": "stream",
     "text": [
      "Tests Passed\n"
     ]
    }
   ],
   "source": [
    "import numpy\n",
    "\n",
    "def normalize(x):\n",
    "    \"\"\"\n",
    "    Normalize a list of sample image data in the range of 0 to 1\n",
    "    : x: List of image data.  The image shape is (32, 32, 3)\n",
    "    : return: Numpy array of normalize data\n",
    "    \"\"\"\n",
    "    # TODO: Implement Function\n",
    "#    ret=[]\n",
    "#    for image in x: \n",
    "#        ret.append(numpy.divide(image,255.))   \n",
    "#    return numpy.asarray(ret)\n",
    "    imgdatamax = 255\n",
    "    loidmin = np.amin(x) # loid = list of image data\n",
    "    return (x - loidmin) / (imgdatamax - loidmin)\n",
    "\n",
    "\"\"\"\n",
    "DON'T MODIFY ANYTHING IN THIS CELL THAT IS BELOW THIS LINE\n",
    "\"\"\"\n",
    "tests.test_normalize(normalize)"
   ]
  },
  {
   "cell_type": "markdown",
   "metadata": {
    "deletable": true,
    "editable": true
   },
   "source": [
    "### One-hot encode\n",
    "Just like the previous code cell, you'll be implementing a function for preprocessing.  This time, you'll implement the `one_hot_encode` function. The input, `x`, are a list of labels.  Implement the function to return the list of labels as One-Hot encoded Numpy array.  The possible values for labels are 0 to 9. The one-hot encoding function should return the same encoding for each value between each call to `one_hot_encode`.  Make sure to save the map of encodings outside the function.\n",
    "\n",
    "Hint: Don't reinvent the wheel."
   ]
  },
  {
   "cell_type": "code",
   "execution_count": 4,
   "metadata": {
    "collapsed": false,
    "deletable": true,
    "editable": true
   },
   "outputs": [
    {
     "name": "stdout",
     "output_type": "stream",
     "text": [
      "Tests Passed\n"
     ]
    }
   ],
   "source": [
    "import numpy\n",
    "import sklearn.preprocessing\n",
    "\n",
    "def one_hot_encode(x):\n",
    "    \"\"\"\n",
    "    One hot encode a list of sample labels. Return a one-hot encoded vector for each label.\n",
    "    : x: List of sample Labels\n",
    "    : return: Numpy array of one-hot encoded labels\n",
    "    \"\"\"\n",
    "#    arr=numpy.asarray(x)\n",
    "#    b = np.zeros((len(arr), 10))\n",
    "#    b[np.arange(len(arr)), x] = 1\n",
    "#    return b\n",
    "    label_binarizer = sklearn.preprocessing.LabelBinarizer()\n",
    "    label_binarizer.fit(list(range(10)))\n",
    "    one_hot_encoder_out = label_binarizer.transform(x)\n",
    "    return one_hot_encoder_out\n",
    "\"\"\"\n",
    "DON'T MODIFY ANYTHING IN THIS CELL THAT IS BELOW THIS LINE\n",
    "\"\"\"\n",
    "tests.test_one_hot_encode(one_hot_encode)"
   ]
  },
  {
   "cell_type": "markdown",
   "metadata": {
    "deletable": true,
    "editable": true
   },
   "source": [
    "### Randomize Data\n",
    "As you saw from exploring the data above, the order of the samples are randomized.  It doesn't hurt to randomize it again, but you don't need to for this dataset."
   ]
  },
  {
   "cell_type": "markdown",
   "metadata": {
    "deletable": true,
    "editable": true
   },
   "source": [
    "## Preprocess all the data and save it\n",
    "Running the code cell below will preprocess all the CIFAR-10 data and save it to file. The code below also uses 10% of the training data for validation."
   ]
  },
  {
   "cell_type": "code",
   "execution_count": 5,
   "metadata": {
    "collapsed": false,
    "deletable": true,
    "editable": true
   },
   "outputs": [],
   "source": [
    "\"\"\"\n",
    "DON'T MODIFY ANYTHING IN THIS CELL\n",
    "\"\"\"\n",
    "# Preprocess Training, Validation, and Testing Data\n",
    "helper.preprocess_and_save_data(cifar10_dataset_folder_path, normalize, one_hot_encode)"
   ]
  },
  {
   "cell_type": "markdown",
   "metadata": {
    "deletable": true,
    "editable": true
   },
   "source": [
    "# Check Point\n",
    "This is your first checkpoint.  If you ever decide to come back to this notebook or have to restart the notebook, you can start from here.  The preprocessed data has been saved to disk."
   ]
  },
  {
   "cell_type": "code",
   "execution_count": 6,
   "metadata": {
    "collapsed": true,
    "deletable": true,
    "editable": true
   },
   "outputs": [],
   "source": [
    "\"\"\"\n",
    "DON'T MODIFY ANYTHING IN THIS CELL\n",
    "\"\"\"\n",
    "import pickle\n",
    "import problem_unittests as tests\n",
    "import helper\n",
    "\n",
    "# Load the Preprocessed Validation data\n",
    "valid_features, valid_labels = pickle.load(open('preprocess_validation.p', mode='rb'))"
   ]
  },
  {
   "cell_type": "markdown",
   "metadata": {
    "deletable": true,
    "editable": true
   },
   "source": [
    "## Build the network\n",
    "For the neural network, you'll build each layer into a function.  Most of the code you've seen has been outside of functions. To test your code more thoroughly, we require that you put each layer in a function.  This allows us to give you better feedback and test for simple mistakes using our unittests before you submit your project.\n",
    "\n",
    ">**Note:** If you're finding it hard to dedicate enough time for this course each week, we've provided a small shortcut to this part of the project. In the next couple of problems, you'll have the option to use classes from the [TensorFlow Layers](https://www.tensorflow.org/api_docs/python/tf/layers) or [TensorFlow Layers (contrib)](https://www.tensorflow.org/api_guides/python/contrib.layers) packages to build each layer, except the layers you build in the \"Convolutional and Max Pooling Layer\" section.  TF Layers is similar to Keras's and TFLearn's abstraction to layers, so it's easy to pickup.\n",
    "\n",
    ">However, if you would like to get the most out of this course, try to solve all the problems _without_ using anything from the TF Layers packages. You **can** still use classes from other packages that happen to have the same name as ones you find in TF Layers! For example, instead of using the TF Layers version of the `conv2d` class, [tf.layers.conv2d](https://www.tensorflow.org/api_docs/python/tf/layers/conv2d), you would want to use the TF Neural Network version of `conv2d`, [tf.nn.conv2d](https://www.tensorflow.org/api_docs/python/tf/nn/conv2d). \n",
    "\n",
    "Let's begin!\n",
    "\n",
    "### Input\n",
    "The neural network needs to read the image data, one-hot encoded labels, and dropout keep probability. Implement the following functions\n",
    "* Implement `neural_net_image_input`\n",
    " * Return a [TF Placeholder](https://www.tensorflow.org/api_docs/python/tf/placeholder)\n",
    " * Set the shape using `image_shape` with batch size set to `None`.\n",
    " * Name the TensorFlow placeholder \"x\" using the TensorFlow `name` parameter in the [TF Placeholder](https://www.tensorflow.org/api_docs/python/tf/placeholder).\n",
    "* Implement `neural_net_label_input`\n",
    " * Return a [TF Placeholder](https://www.tensorflow.org/api_docs/python/tf/placeholder)\n",
    " * Set the shape using `n_classes` with batch size set to `None`.\n",
    " * Name the TensorFlow placeholder \"y\" using the TensorFlow `name` parameter in the [TF Placeholder](https://www.tensorflow.org/api_docs/python/tf/placeholder).\n",
    "* Implement `neural_net_keep_prob_input`\n",
    " * Return a [TF Placeholder](https://www.tensorflow.org/api_docs/python/tf/placeholder) for dropout keep probability.\n",
    " * Name the TensorFlow placeholder \"keep_prob\" using the TensorFlow `name` parameter in the [TF Placeholder](https://www.tensorflow.org/api_docs/python/tf/placeholder).\n",
    "\n",
    "These names will be used at the end of the project to load your saved model.\n",
    "\n",
    "Note: `None` for shapes in TensorFlow allow for a dynamic size."
   ]
  },
  {
   "cell_type": "code",
   "execution_count": 7,
   "metadata": {
    "collapsed": false,
    "deletable": true,
    "editable": true
   },
   "outputs": [
    {
     "name": "stdout",
     "output_type": "stream",
     "text": [
      "Image Input Tests Passed.\n",
      "Label Input Tests Passed.\n",
      "Keep Prob Tests Passed.\n"
     ]
    }
   ],
   "source": [
    "import tensorflow as tf\n",
    "\n",
    "def neural_net_image_input(image_shape):\n",
    "    \"\"\"\n",
    "    Return a Tensor for a bach of image input\n",
    "    : image_shape: Shape of the images\n",
    "    : return: Tensor for image input.\n",
    "    \"\"\"\n",
    "    # TODO: Implement Function\n",
    "    return tf.placeholder(tf.float32, [None, *image_shape], name='x')\n",
    "\n",
    "\n",
    "def neural_net_label_input(n_classes):\n",
    "    \"\"\"\n",
    "    Return a Tensor for a batch of label input\n",
    "    : n_classes: Number of classes\n",
    "    : return: Tensor for label input.\n",
    "    \"\"\"\n",
    "    # TODO: Implement Function\n",
    "    return tf.placeholder(tf.float32, [None, n_classes], name='y')\n",
    "\n",
    "\n",
    "def neural_net_keep_prob_input():\n",
    "    \"\"\"\n",
    "    Return a Tensor for keep probability\n",
    "    : return: Tensor for keep probability.\n",
    "    \"\"\"\n",
    "    # TODO: Implement Function\n",
    "    return tf.placeholder(tf.float32, name='keep_prob')\n",
    "\n",
    "\n",
    "\"\"\"\n",
    "DON'T MODIFY ANYTHING IN THIS CELL THAT IS BELOW THIS LINE\n",
    "\"\"\"\n",
    "tf.reset_default_graph()\n",
    "tests.test_nn_image_inputs(neural_net_image_input)\n",
    "tests.test_nn_label_inputs(neural_net_label_input)\n",
    "tests.test_nn_keep_prob_inputs(neural_net_keep_prob_input)"
   ]
  },
  {
   "cell_type": "markdown",
   "metadata": {
    "deletable": true,
    "editable": true
   },
   "source": [
    "### Convolution and Max Pooling Layer\n",
    "Convolution layers have a lot of success with images. For this code cell, you should implement the function `conv2d_maxpool` to apply convolution then max pooling:\n",
    "* Create the weight and bias using `conv_ksize`, `conv_num_outputs` and the shape of `x_tensor`.\n",
    "* Apply a convolution to `x_tensor` using weight and `conv_strides`.\n",
    " * We recommend you use same padding, but you're welcome to use any padding.\n",
    "* Add bias\n",
    "* Add a nonlinear activation to the convolution.\n",
    "* Apply Max Pooling using `pool_ksize` and `pool_strides`.\n",
    " * We recommend you use same padding, but you're welcome to use any padding.\n",
    "\n",
    "**Note:** You **can't** use [TensorFlow Layers](https://www.tensorflow.org/api_docs/python/tf/layers) or [TensorFlow Layers (contrib)](https://www.tensorflow.org/api_guides/python/contrib.layers) for **this** layer, but you can still use TensorFlow's [Neural Network](https://www.tensorflow.org/api_docs/python/tf/nn) package. You may still use the shortcut option for all the **other** layers."
   ]
  },
  {
   "cell_type": "code",
   "execution_count": 44,
   "metadata": {
    "collapsed": false,
    "deletable": true,
    "editable": true
   },
   "outputs": [
    {
     "name": "stdout",
     "output_type": "stream",
     "text": [
      "Tests Passed\n"
     ]
    }
   ],
   "source": [
    "def conv2d_maxpool(x_tensor, conv_num_outputs, conv_ksize, conv_strides, pool_ksize, pool_strides):\n",
    "    \"\"\"\n",
    "    Apply convolution then max pooling to x_tensor\n",
    "    :param x_tensor: TensorFlow Tensor\n",
    "    :param conv_num_outputs: Number of outputs for the convolutional layer\n",
    "    :param conv_ksize: kernal size 2-D Tuple for the convolutional layer\n",
    "    :param conv_strides: Stride 2-D Tuple for convolution\n",
    "    :param pool_ksize: kernal size 2-D Tuple for pool\n",
    "    :param pool_strides: Stride 2-D Tuple for pool\n",
    "    : return: A tensor that represents convolution and max pooling of x_tensor\n",
    "    \"\"\"\n",
    "    # TODO: Implement Function\n",
    "    #input channel size\n",
    "    input_channel   = x_tensor.shape[3].value\n",
    "    #output channel size\n",
    "    output_channel = conv_num_outputs\n",
    "    # Weights\n",
    "    shape   = [conv_ksize[0], conv_ksize[1], input_channel, output_channel]\n",
    "    weights = tf.Variable(tf.truncated_normal(shape, mean = 0, stddev=0.07))\n",
    "    # Bias\n",
    "    bias = tf.Variable(tf.zeros(output_channel))\n",
    "    # Convolution Layer\n",
    "    strides = [1, *conv_strides, 1]\n",
    "    tnsr = tf.nn.conv2d(x_tensor, weights, strides, padding='SAME')\n",
    "    #bias add\n",
    "    tnsr = tf.nn.bias_add(tnsr, bias)\n",
    "    #activation function\n",
    "    tensor = tf.nn.relu(tnsr)\n",
    "    #max pool\n",
    "    ksize = [1, *pool_ksize, 1]\n",
    "    strides = [1, *pool_strides, 1]\n",
    "    tnsr = tf.nn.max_pool(tnsr, ksize, strides, padding='SAME')\n",
    "    return tnsr\n",
    "\n",
    "\"\"\"\n",
    "DON'T MODIFY ANYTHING IN THIS CELL THAT IS BELOW THIS LINE\n",
    "\"\"\"\n",
    "tests.test_con_pool(conv2d_maxpool)"
   ]
  },
  {
   "cell_type": "markdown",
   "metadata": {
    "deletable": true,
    "editable": true
   },
   "source": [
    "### Flatten Layer\n",
    "Implement the `flatten` function to change the dimension of `x_tensor` from a 4-D tensor to a 2-D tensor.  The output should be the shape (*Batch Size*, *Flattened Image Size*). Shortcut option: you can use classes from the [TensorFlow Layers](https://www.tensorflow.org/api_docs/python/tf/layers) or [TensorFlow Layers (contrib)](https://www.tensorflow.org/api_guides/python/contrib.layers) packages for this layer. For more of a challenge, only use other TensorFlow packages."
   ]
  },
  {
   "cell_type": "code",
   "execution_count": 46,
   "metadata": {
    "collapsed": false,
    "deletable": true,
    "editable": true
   },
   "outputs": [
    {
     "name": "stdout",
     "output_type": "stream",
     "text": [
      "Tests Passed\n"
     ]
    }
   ],
   "source": [
    "def flatten(x_tensor):\n",
    "    \"\"\"\n",
    "    Flatten x_tensor to (Batch Size, Flattened Image Size)\n",
    "    : x_tensor: A tensor of size (Batch Size, ...), where ... are the image dimensions.\n",
    "    : return: A tensor of size (Batch Size, Flattened Image Size).\n",
    "    \"\"\"\n",
    "    # TODO: Implement Function\n",
    "    return tf.contrib.layers.flatten(x_tensor)\n",
    "\n",
    "\n",
    "\"\"\"\n",
    "DON'T MODIFY ANYTHING IN THIS CELL THAT IS BELOW THIS LINE\n",
    "\"\"\"\n",
    "tests.test_flatten(flatten)"
   ]
  },
  {
   "cell_type": "markdown",
   "metadata": {
    "deletable": true,
    "editable": true
   },
   "source": [
    "### Fully-Connected Layer\n",
    "Implement the `fully_conn` function to apply a fully connected layer to `x_tensor` with the shape (*Batch Size*, *num_outputs*). Shortcut option: you can use classes from the [TensorFlow Layers](https://www.tensorflow.org/api_docs/python/tf/layers) or [TensorFlow Layers (contrib)](https://www.tensorflow.org/api_guides/python/contrib.layers) packages for this layer. For more of a challenge, only use other TensorFlow packages."
   ]
  },
  {
   "cell_type": "code",
   "execution_count": 55,
   "metadata": {
    "collapsed": false,
    "deletable": true,
    "editable": true
   },
   "outputs": [
    {
     "name": "stdout",
     "output_type": "stream",
     "text": [
      "Tests Passed\n"
     ]
    }
   ],
   "source": [
    "def fully_conn(x_tensor, num_outputs):\n",
    "    \"\"\"\n",
    "    Apply a fully connected layer to x_tensor using weight and bias\n",
    "    : x_tensor: A 2-D tensor where the first dimension is batch size.\n",
    "    : num_outputs: The number of output that the new tensor should be.\n",
    "    : return: A 2-D tensor where the second dimension is num_outputs.\n",
    "    \"\"\"\n",
    "    # TODO: Implement Function\n",
    "    shape = x_tensor.get_shape().as_list()\n",
    "    shape = [shape[1], num_outputs]\n",
    "    weights = tf.Variable(tf.truncated_normal(shape, stddev=0.01))\n",
    "    bias = tf.Variable(tf.zeros(num_outputs))\n",
    "    #fully connected layer return    \n",
    "    return tf.nn.relu(tf.add(tf.matmul(x_tensor, weights), bias))\n",
    "\n",
    "\n",
    "\n",
    "\"\"\"\n",
    "DON'T MODIFY ANYTHING IN THIS CELL THAT IS BELOW THIS LINE\n",
    "\"\"\"\n",
    "tests.test_fully_conn(fully_conn)"
   ]
  },
  {
   "cell_type": "markdown",
   "metadata": {
    "deletable": true,
    "editable": true
   },
   "source": [
    "### Output Layer\n",
    "Implement the `output` function to apply a fully connected layer to `x_tensor` with the shape (*Batch Size*, *num_outputs*). Shortcut option: you can use classes from the [TensorFlow Layers](https://www.tensorflow.org/api_docs/python/tf/layers) or [TensorFlow Layers (contrib)](https://www.tensorflow.org/api_guides/python/contrib.layers) packages for this layer. For more of a challenge, only use other TensorFlow packages.\n",
    "\n",
    "**Note:** Activation, softmax, or cross entropy should **not** be applied to this."
   ]
  },
  {
   "cell_type": "code",
   "execution_count": 61,
   "metadata": {
    "collapsed": false,
    "deletable": true,
    "editable": true
   },
   "outputs": [
    {
     "name": "stdout",
     "output_type": "stream",
     "text": [
      "Tests Passed\n"
     ]
    }
   ],
   "source": [
    "def output(x_tensor, num_outputs):\n",
    "    \"\"\"\n",
    "    Apply a output layer to x_tensor using weight and bias\n",
    "    : x_tensor: A 2-D tensor where the first dimension is batch size.\n",
    "    : num_outputs: The number of output that the new tensor should be.\n",
    "    : return: A 2-D tensor where the second dimension is num_outputs.\n",
    "    \"\"\"\n",
    "    # TODO: Implement Function\n",
    "    ninputs = x_tensor.shape[1].value\n",
    "    weights = tf.Variable(tf.random_normal([ninputs, num_outputs]))\n",
    "    bias = tf.Variable(tf.zeros(num_outputs))\n",
    "    matmul = tf.matmul(x_tensor, weights)\n",
    "    output_lyr = tf.add(matmul, bias)\n",
    "    return output_lyr\n",
    "\n",
    "\"\"\"\n",
    "DON'T MODIFY ANYTHING IN THIS CELL THAT IS BELOW THIS LINE\n",
    "\"\"\"\n",
    "tests.test_output(output)"
   ]
  },
  {
   "cell_type": "markdown",
   "metadata": {
    "deletable": true,
    "editable": true
   },
   "source": [
    "### Create Convolutional Model\n",
    "Implement the function `conv_net` to create a convolutional neural network model. The function takes in a batch of images, `x`, and outputs logits.  Use the layers you created above to create this model:\n",
    "\n",
    "* Apply 1, 2, or 3 Convolution and Max Pool layers\n",
    "* Apply a Flatten Layer\n",
    "* Apply 1, 2, or 3 Fully Connected Layers\n",
    "* Apply an Output Layer\n",
    "* Return the output\n",
    "* Apply [TensorFlow's Dropout](https://www.tensorflow.org/api_docs/python/tf/nn/dropout) to one or more layers in the model using `keep_prob`. "
   ]
  },
  {
   "cell_type": "code",
   "execution_count": 208,
   "metadata": {
    "collapsed": false,
    "deletable": true,
    "editable": true
   },
   "outputs": [
    {
     "name": "stdout",
     "output_type": "stream",
     "text": [
      "Neural Network Built!\n"
     ]
    }
   ],
   "source": [
    "def conv_net(x, keep_prob):\n",
    "    with tf.device('/gpu:0'):\n",
    "        \"\"\"\n",
    "        Create a convolutional neural network model\n",
    "        : x: Placeholder tensor that holds image data.\n",
    "        : keep_prob: Placeholder tensor that hold dropout keep probability.\n",
    "        : return: Tensor that represents logits\n",
    "        \"\"\"\n",
    "        # TODO: Apply 1, 2, or 3 Convolution and Max Pool layers\n",
    "        #    Play around with different number of outputs, kernel size and stride\n",
    "        # Function Definition from Above:\n",
    "        #    conv2d_maxpool(x_tensor, conv_num_outputs, conv_ksize, conv_strides, pool_ksize, pool_strides)\n",
    "    conv1_ksize   = [8, 8]\n",
    "    conv2_ksize   = [4, 4]\n",
    "    conv3_ksize   = [4, 4]\n",
    "    conv_strides  = [2, 2]\n",
    "    pool_ksize    = [4, 4]\n",
    "    pool_strides  = [2, 2]\n",
    "    cnn1_noutputs = 32\n",
    "    cnn2_noutputs = 64\n",
    "    cnn3_noutputs = 128\n",
    "    # TODO: Apply 1, 2, or 3 Convolution and Max Pool layers\n",
    "    #    Play around with different number of outputs, kernel size and stride\n",
    "    # Function Definition from Above:\n",
    "    #    conv2d_maxpool(x_tensor, conv_num_outputs, conv_ksize, conv_strides, pool_ksize, pool_strides)\n",
    "    cnn1 = conv2d_maxpool(   x, cnn1_noutputs, \n",
    "                          conv1_ksize, conv_strides, \n",
    "                          pool_ksize, pool_strides)\n",
    "    cnn2 = conv2d_maxpool(cnn1, cnn2_noutputs, \n",
    "                          conv2_ksize, conv_strides, \n",
    "                          pool_ksize, pool_strides)\n",
    "    cnn3 = conv2d_maxpool(cnn2, cnn2_noutputs, \n",
    "                          conv3_ksize, conv_strides, \n",
    "                          pool_ksize, pool_strides)\n",
    "    # TODO: Apply a Flatten Layer\n",
    "    # Function Definition from Above:\n",
    "    #   flatten(x_tensor)\n",
    "    flattern_layer = flatten(cnn3)    \n",
    "    # TODO: Apply 1, 2, or 3 Fully Connected Layers\n",
    "    #    Play around with different number of outputs\n",
    "    # Function Definition from Above:\n",
    "    #   fully_conn(x_tensor, num_outputs)\n",
    "    fully_conn_layer = fully_conn(flattern_layer, 256)\n",
    "    fully_conn_layer = tf.nn.dropout(fully_conn_layer, keep_prob)\n",
    "\n",
    "    # TODO: Apply an Output Layer\n",
    "    #    Set this to the number of classes\n",
    "    # Function Definition from Above:\n",
    "    #   output(x_tensor, num_outputs)\n",
    "    output_layer = output(fully_conn_layer, 10)\n",
    "    \n",
    "    # TODO: return output\n",
    "    return output_layer\n",
    "\n",
    "\n",
    "\"\"\"\n",
    "DON'T MODIFY ANYTHING IN THIS CELL THAT IS BELOW THIS LINE\n",
    "\"\"\"\n",
    "\n",
    "##############################\n",
    "## Build the Neural Network ##\n",
    "##############################\n",
    "\n",
    "# Remove previous weights, bias, inputs, etc..\n",
    "tf.reset_default_graph()\n",
    "\n",
    "# Inputs\n",
    "x = neural_net_image_input((32, 32, 3))\n",
    "y = neural_net_label_input(10)\n",
    "keep_prob = neural_net_keep_prob_input()\n",
    "\n",
    "# Model\n",
    "logits = conv_net(x, keep_prob)\n",
    "\n",
    "# Name logits Tensor, so that is can be loaded from disk after training\n",
    "logits = tf.identity(logits, name='logits')\n",
    "\n",
    "# Loss and Optimizer\n",
    "cost = tf.reduce_mean(tf.nn.softmax_cross_entropy_with_logits(logits=logits, labels=y))\n",
    "optimizer = tf.train.AdamOptimizer().minimize(cost)\n",
    "\n",
    "# Accuracy\n",
    "correct_pred = tf.equal(tf.argmax(logits, 1), tf.argmax(y, 1))\n",
    "accuracy = tf.reduce_mean(tf.cast(correct_pred, tf.float32), name='accuracy')\n",
    "\n",
    "tests.test_conv_net(conv_net)"
   ]
  },
  {
   "cell_type": "markdown",
   "metadata": {
    "deletable": true,
    "editable": true
   },
   "source": [
    "## Train the Neural Network\n",
    "### Single Optimization\n",
    "Implement the function `train_neural_network` to do a single optimization.  The optimization should use `optimizer` to optimize in `session` with a `feed_dict` of the following:\n",
    "* `x` for image input\n",
    "* `y` for labels\n",
    "* `keep_prob` for keep probability for dropout\n",
    "\n",
    "This function will be called for each batch, so `tf.global_variables_initializer()` has already been called.\n",
    "\n",
    "Note: Nothing needs to be returned. This function is only optimizing the neural network."
   ]
  },
  {
   "cell_type": "code",
   "execution_count": 202,
   "metadata": {
    "collapsed": false,
    "deletable": true,
    "editable": true
   },
   "outputs": [
    {
     "name": "stdout",
     "output_type": "stream",
     "text": [
      "Tests Passed\n"
     ]
    }
   ],
   "source": [
    "def train_neural_network(session, optimizer, keep_probability, feature_batch, label_batch):\n",
    "    \"\"\"\n",
    "    Optimize the session on a batch of images and labels\n",
    "    : session: Current TensorFlow session\n",
    "    : optimizer: TensorFlow optimizer function\n",
    "    : keep_probability: keep probability\n",
    "    : feature_batch: Batch of Numpy image data\n",
    "    : label_batch: Batch of Numpy label data\n",
    "    \"\"\"\n",
    "    # TODO: Implement Function\n",
    "    session.run(optimizer, feed_dict={\n",
    "        x: feature_batch,\n",
    "        y: label_batch,\n",
    "        keep_prob: keep_probability\n",
    "    })\n",
    "\n",
    "\n",
    "\"\"\"\n",
    "DON'T MODIFY ANYTHING IN THIS CELL THAT IS BELOW THIS LINE\n",
    "\"\"\"\n",
    "tests.test_train_nn(train_neural_network)"
   ]
  },
  {
   "cell_type": "markdown",
   "metadata": {
    "deletable": true,
    "editable": true
   },
   "source": [
    "### Show Stats\n",
    "Implement the function `print_stats` to print loss and validation accuracy.  Use the global variables `valid_features` and `valid_labels` to calculate validation accuracy.  Use a keep probability of `1.0` to calculate the loss and validation accuracy."
   ]
  },
  {
   "cell_type": "code",
   "execution_count": 203,
   "metadata": {
    "collapsed": false,
    "deletable": true,
    "editable": true
   },
   "outputs": [],
   "source": [
    "def print_stats(session, feature_batch, label_batch, cost, accuracy):\n",
    "    \"\"\"\n",
    "    Print information about loss and validation accuracy\n",
    "    : session: Current TensorFlow session\n",
    "    : feature_batch: Batch of Numpy image data\n",
    "    : label_batch: Batch of Numpy label data\n",
    "    : cost: TensorFlow cost function\n",
    "    : accuracy: TensorFlow accuracy function\n",
    "    \"\"\"\n",
    "    # TODO: Implement Function\n",
    "    loss      = session.run(cost, feed_dict={x: feature_batch,\n",
    "                                             y: label_batch,\n",
    "                                             keep_prob: 1.})\n",
    "    \n",
    "    accurracy = session.run(accuracy, feed_dict={x: valid_features, \n",
    "                                                 y: valid_labels, \n",
    "                                                 keep_prob: 1. })\n",
    "\n",
    "    print('Loss: {:>10.4f} accuracy: {:.8f}'.format(loss, \n",
    "                                                    accurracy))"
   ]
  },
  {
   "cell_type": "markdown",
   "metadata": {
    "deletable": true,
    "editable": true
   },
   "source": [
    "### Hyperparameters\n",
    "Tune the following parameters:\n",
    "* Set `epochs` to the number of iterations until the network stops learning or start overfitting\n",
    "* Set `batch_size` to the highest number that your machine has memory for.  Most people set them to common sizes of memory:\n",
    " * 64\n",
    " * 128\n",
    " * 256\n",
    " * ...\n",
    "* Set `keep_probability` to the probability of keeping a node using dropout"
   ]
  },
  {
   "cell_type": "code",
   "execution_count": 221,
   "metadata": {
    "collapsed": true,
    "deletable": true,
    "editable": true
   },
   "outputs": [],
   "source": [
    "# TODO: Tune Parameters\n",
    "epochs = 50\n",
    "batch_size = 1024\n",
    "keep_probability = 0.7"
   ]
  },
  {
   "cell_type": "markdown",
   "metadata": {
    "deletable": true,
    "editable": true
   },
   "source": [
    "### Train on a Single CIFAR-10 Batch\n",
    "Instead of training the neural network on all the CIFAR-10 batches of data, let's use a single batch. This should save time while you iterate on the model to get a better accuracy.  Once the final validation accuracy is 50% or greater, run the model on all the data in the next section."
   ]
  },
  {
   "cell_type": "code",
   "execution_count": 222,
   "metadata": {
    "collapsed": false,
    "deletable": true,
    "editable": true
   },
   "outputs": [
    {
     "name": "stdout",
     "output_type": "stream",
     "text": [
      "Checking the Training on a Single Batch...\n",
      "Epoch  1, CIFAR-10 Batch 1:  Loss:     2.0629 accuracy: 0.24920000\n",
      "Epoch  2, CIFAR-10 Batch 1:  Loss:     1.8751 accuracy: 0.33700001\n",
      "Epoch  3, CIFAR-10 Batch 1:  Loss:     1.7791 accuracy: 0.35440001\n",
      "Epoch  4, CIFAR-10 Batch 1:  Loss:     1.6255 accuracy: 0.41139999\n",
      "Epoch  5, CIFAR-10 Batch 1:  Loss:     1.5377 accuracy: 0.43640000\n",
      "Epoch  6, CIFAR-10 Batch 1:  Loss:     1.4689 accuracy: 0.45100001\n",
      "Epoch  7, CIFAR-10 Batch 1:  Loss:     1.4128 accuracy: 0.46419999\n",
      "Epoch  8, CIFAR-10 Batch 1:  Loss:     1.3710 accuracy: 0.47560000\n",
      "Epoch  9, CIFAR-10 Batch 1:  Loss:     1.3208 accuracy: 0.48339999\n",
      "Epoch 10, CIFAR-10 Batch 1:  Loss:     1.2766 accuracy: 0.49919999\n",
      "Epoch 11, CIFAR-10 Batch 1:  Loss:     1.2563 accuracy: 0.49219999\n",
      "Epoch 12, CIFAR-10 Batch 1:  Loss:     1.2688 accuracy: 0.48480001\n",
      "Epoch 13, CIFAR-10 Batch 1:  Loss:     1.2234 accuracy: 0.49959999\n",
      "Epoch 14, CIFAR-10 Batch 1:  Loss:     1.1738 accuracy: 0.51239997\n",
      "Epoch 15, CIFAR-10 Batch 1:  Loss:     1.1284 accuracy: 0.51800001\n",
      "Epoch 16, CIFAR-10 Batch 1:  Loss:     1.1776 accuracy: 0.49059999\n",
      "Epoch 17, CIFAR-10 Batch 1:  Loss:     1.0962 accuracy: 0.52440000\n",
      "Epoch 18, CIFAR-10 Batch 1:  Loss:     1.0530 accuracy: 0.54000002\n",
      "Epoch 19, CIFAR-10 Batch 1:  Loss:     1.0640 accuracy: 0.52260000\n",
      "Epoch 20, CIFAR-10 Batch 1:  Loss:     0.9894 accuracy: 0.54259998\n",
      "Epoch 21, CIFAR-10 Batch 1:  Loss:     0.9498 accuracy: 0.54479998\n",
      "Epoch 22, CIFAR-10 Batch 1:  Loss:     0.9186 accuracy: 0.54879999\n",
      "Epoch 23, CIFAR-10 Batch 1:  Loss:     0.9092 accuracy: 0.54360002\n",
      "Epoch 24, CIFAR-10 Batch 1:  Loss:     0.8901 accuracy: 0.54659998\n",
      "Epoch 25, CIFAR-10 Batch 1:  Loss:     0.8929 accuracy: 0.53939998\n",
      "Epoch 26, CIFAR-10 Batch 1:  Loss:     0.8861 accuracy: 0.52920002\n",
      "Epoch 27, CIFAR-10 Batch 1:  Loss:     0.8390 accuracy: 0.54460001\n",
      "Epoch 28, CIFAR-10 Batch 1:  Loss:     0.8102 accuracy: 0.55580002\n",
      "Epoch 29, CIFAR-10 Batch 1:  Loss:     0.8098 accuracy: 0.54360002\n",
      "Epoch 30, CIFAR-10 Batch 1:  Loss:     0.7782 accuracy: 0.55280000\n",
      "Epoch 31, CIFAR-10 Batch 1:  Loss:     0.7430 accuracy: 0.54939997\n",
      "Epoch 32, CIFAR-10 Batch 1:  Loss:     0.8273 accuracy: 0.52359998\n",
      "Epoch 33, CIFAR-10 Batch 1:  Loss:     0.7391 accuracy: 0.54560000\n",
      "Epoch 34, CIFAR-10 Batch 1:  Loss:     0.7038 accuracy: 0.55040002\n",
      "Epoch 35, CIFAR-10 Batch 1:  Loss:     0.7001 accuracy: 0.54240000\n",
      "Epoch 36, CIFAR-10 Batch 1:  Loss:     0.6548 accuracy: 0.55620003\n",
      "Epoch 37, CIFAR-10 Batch 1:  Loss:     0.6601 accuracy: 0.55720001\n",
      "Epoch 38, CIFAR-10 Batch 1:  Loss:     0.6248 accuracy: 0.55559999\n",
      "Epoch 39, CIFAR-10 Batch 1:  Loss:     0.6496 accuracy: 0.54000002\n",
      "Epoch 40, CIFAR-10 Batch 1:  Loss:     0.6930 accuracy: 0.52139997\n",
      "Epoch 41, CIFAR-10 Batch 1:  Loss:     0.6470 accuracy: 0.54380000\n",
      "Epoch 42, CIFAR-10 Batch 1:  Loss:     0.5987 accuracy: 0.54640001\n",
      "Epoch 43, CIFAR-10 Batch 1:  Loss:     0.6969 accuracy: 0.51819998\n",
      "Epoch 44, CIFAR-10 Batch 1:  Loss:     0.6970 accuracy: 0.54000002\n",
      "Epoch 45, CIFAR-10 Batch 1:  Loss:     0.5558 accuracy: 0.55620003\n",
      "Epoch 46, CIFAR-10 Batch 1:  Loss:     0.5507 accuracy: 0.55339998\n",
      "Epoch 47, CIFAR-10 Batch 1:  Loss:     0.5455 accuracy: 0.55620003\n",
      "Epoch 48, CIFAR-10 Batch 1:  Loss:     0.5294 accuracy: 0.54400003\n",
      "Epoch 49, CIFAR-10 Batch 1:  Loss:     0.5176 accuracy: 0.54699999\n",
      "Epoch 50, CIFAR-10 Batch 1:  Loss:     0.5594 accuracy: 0.53560001\n"
     ]
    }
   ],
   "source": [
    "\"\"\"\n",
    "DON'T MODIFY ANYTHING IN THIS CELL\n",
    "\"\"\"\n",
    "print('Checking the Training on a Single Batch...')\n",
    "with tf.Session(config=tf.ConfigProto(log_device_placement=True)) as sess:\n",
    "    # Initializing the variables\n",
    "    sess.run(tf.global_variables_initializer())\n",
    "    \n",
    "    # Training cycle\n",
    "    for epoch in range(epochs):\n",
    "        batch_i = 1\n",
    "        for batch_features, batch_labels in helper.load_preprocess_training_batch(batch_i, batch_size):\n",
    "            train_neural_network(sess, optimizer, keep_probability, batch_features, batch_labels)\n",
    "        print('Epoch {:>2}, CIFAR-10 Batch {}:  '.format(epoch + 1, batch_i), end='')\n",
    "        print_stats(sess, batch_features, batch_labels, cost, accuracy)"
   ]
  },
  {
   "cell_type": "markdown",
   "metadata": {
    "deletable": true,
    "editable": true
   },
   "source": [
    "### Fully Train the Model\n",
    "Now that you got a good accuracy with a single CIFAR-10 batch, try it with all five batches."
   ]
  },
  {
   "cell_type": "code",
   "execution_count": 224,
   "metadata": {
    "collapsed": false,
    "deletable": true,
    "editable": true
   },
   "outputs": [
    {
     "name": "stdout",
     "output_type": "stream",
     "text": [
      "Training...\n",
      "Epoch  1, CIFAR-10 Batch 1:  Loss:     2.0600 accuracy: 0.24380000\n",
      "Epoch  1, CIFAR-10 Batch 2:  Loss:     1.8522 accuracy: 0.32220000\n",
      "Epoch  1, CIFAR-10 Batch 3:  Loss:     1.7154 accuracy: 0.37279999\n",
      "Epoch  1, CIFAR-10 Batch 4:  Loss:     1.6230 accuracy: 0.41400000\n",
      "Epoch  1, CIFAR-10 Batch 5:  Loss:     1.5976 accuracy: 0.43360001\n",
      "Epoch  2, CIFAR-10 Batch 1:  Loss:     1.5095 accuracy: 0.44200000\n",
      "Epoch  2, CIFAR-10 Batch 2:  Loss:     1.5499 accuracy: 0.44080001\n",
      "Epoch  2, CIFAR-10 Batch 3:  Loss:     1.4085 accuracy: 0.48199999\n",
      "Epoch  2, CIFAR-10 Batch 4:  Loss:     1.3993 accuracy: 0.48960000\n",
      "Epoch  2, CIFAR-10 Batch 5:  Loss:     1.3717 accuracy: 0.49660000\n",
      "Epoch  3, CIFAR-10 Batch 1:  Loss:     1.3408 accuracy: 0.50520003\n",
      "Epoch  3, CIFAR-10 Batch 2:  Loss:     1.3912 accuracy: 0.49620000\n",
      "Epoch  3, CIFAR-10 Batch 3:  Loss:     1.3044 accuracy: 0.50480002\n",
      "Epoch  3, CIFAR-10 Batch 4:  Loss:     1.2774 accuracy: 0.53039998\n",
      "Epoch  3, CIFAR-10 Batch 5:  Loss:     1.2469 accuracy: 0.53560001\n",
      "Epoch  4, CIFAR-10 Batch 1:  Loss:     1.2589 accuracy: 0.53020000\n",
      "Epoch  4, CIFAR-10 Batch 2:  Loss:     1.3234 accuracy: 0.51440001\n",
      "Epoch  4, CIFAR-10 Batch 3:  Loss:     1.1902 accuracy: 0.55260003\n",
      "Epoch  4, CIFAR-10 Batch 4:  Loss:     1.1916 accuracy: 0.55339998\n",
      "Epoch  4, CIFAR-10 Batch 5:  Loss:     1.1609 accuracy: 0.56379998\n",
      "Epoch  5, CIFAR-10 Batch 1:  Loss:     1.1651 accuracy: 0.56099999\n",
      "Epoch  5, CIFAR-10 Batch 2:  Loss:     1.2221 accuracy: 0.54519999\n",
      "Epoch  5, CIFAR-10 Batch 3:  Loss:     1.1406 accuracy: 0.55040002\n",
      "Epoch  5, CIFAR-10 Batch 4:  Loss:     1.1391 accuracy: 0.56320000\n",
      "Epoch  5, CIFAR-10 Batch 5:  Loss:     1.1031 accuracy: 0.57459998\n",
      "Epoch  6, CIFAR-10 Batch 1:  Loss:     1.1118 accuracy: 0.56739998\n",
      "Epoch  6, CIFAR-10 Batch 2:  Loss:     1.1487 accuracy: 0.57859999\n",
      "Epoch  6, CIFAR-10 Batch 3:  Loss:     1.0989 accuracy: 0.57400000\n",
      "Epoch  6, CIFAR-10 Batch 4:  Loss:     1.0848 accuracy: 0.58260000\n",
      "Epoch  6, CIFAR-10 Batch 5:  Loss:     1.0487 accuracy: 0.58740002\n",
      "Epoch  7, CIFAR-10 Batch 1:  Loss:     1.0497 accuracy: 0.58819997\n",
      "Epoch  7, CIFAR-10 Batch 2:  Loss:     1.1285 accuracy: 0.57179999\n",
      "Epoch  7, CIFAR-10 Batch 3:  Loss:     1.0169 accuracy: 0.58759999\n",
      "Epoch  7, CIFAR-10 Batch 4:  Loss:     1.0403 accuracy: 0.59039998\n",
      "Epoch  7, CIFAR-10 Batch 5:  Loss:     1.0259 accuracy: 0.58700001\n",
      "Epoch  8, CIFAR-10 Batch 1:  Loss:     1.0246 accuracy: 0.58800000\n",
      "Epoch  8, CIFAR-10 Batch 2:  Loss:     1.0868 accuracy: 0.58800000\n",
      "Epoch  8, CIFAR-10 Batch 3:  Loss:     1.0220 accuracy: 0.57900000\n",
      "Epoch  8, CIFAR-10 Batch 4:  Loss:     1.0360 accuracy: 0.58579999\n",
      "Epoch  8, CIFAR-10 Batch 5:  Loss:     0.9934 accuracy: 0.59920001\n",
      "Epoch  9, CIFAR-10 Batch 1:  Loss:     0.9627 accuracy: 0.59740001\n",
      "Epoch  9, CIFAR-10 Batch 2:  Loss:     1.0671 accuracy: 0.59259999\n",
      "Epoch  9, CIFAR-10 Batch 3:  Loss:     0.9803 accuracy: 0.59100002\n",
      "Epoch  9, CIFAR-10 Batch 4:  Loss:     0.9672 accuracy: 0.60360003\n",
      "Epoch  9, CIFAR-10 Batch 5:  Loss:     0.9387 accuracy: 0.60479999\n",
      "Epoch 10, CIFAR-10 Batch 1:  Loss:     0.9236 accuracy: 0.60839999\n",
      "Epoch 10, CIFAR-10 Batch 2:  Loss:     0.9784 accuracy: 0.61739999\n",
      "Epoch 10, CIFAR-10 Batch 3:  Loss:     0.9315 accuracy: 0.60020000\n",
      "Epoch 10, CIFAR-10 Batch 4:  Loss:     0.9369 accuracy: 0.61159998\n",
      "Epoch 10, CIFAR-10 Batch 5:  Loss:     0.8954 accuracy: 0.61500001\n",
      "Epoch 11, CIFAR-10 Batch 1:  Loss:     0.8956 accuracy: 0.61680001\n",
      "Epoch 11, CIFAR-10 Batch 2:  Loss:     0.9658 accuracy: 0.61180001\n",
      "Epoch 11, CIFAR-10 Batch 3:  Loss:     0.8904 accuracy: 0.61780000\n",
      "Epoch 11, CIFAR-10 Batch 4:  Loss:     0.9105 accuracy: 0.61320001\n",
      "Epoch 11, CIFAR-10 Batch 5:  Loss:     0.8662 accuracy: 0.62000000\n",
      "Epoch 12, CIFAR-10 Batch 1:  Loss:     0.8747 accuracy: 0.62000000\n",
      "Epoch 12, CIFAR-10 Batch 2:  Loss:     0.9630 accuracy: 0.61420000\n",
      "Epoch 12, CIFAR-10 Batch 3:  Loss:     0.8695 accuracy: 0.61420000\n",
      "Epoch 12, CIFAR-10 Batch 4:  Loss:     0.8703 accuracy: 0.62180001\n",
      "Epoch 12, CIFAR-10 Batch 5:  Loss:     0.8755 accuracy: 0.61360002\n",
      "Epoch 13, CIFAR-10 Batch 1:  Loss:     0.8632 accuracy: 0.62300003\n",
      "Epoch 13, CIFAR-10 Batch 2:  Loss:     0.9092 accuracy: 0.63080001\n",
      "Epoch 13, CIFAR-10 Batch 3:  Loss:     0.8453 accuracy: 0.61479998\n",
      "Epoch 13, CIFAR-10 Batch 4:  Loss:     0.8412 accuracy: 0.63260001\n",
      "Epoch 13, CIFAR-10 Batch 5:  Loss:     0.8257 accuracy: 0.62480003\n",
      "Epoch 14, CIFAR-10 Batch 1:  Loss:     0.8107 accuracy: 0.63360000\n",
      "Epoch 14, CIFAR-10 Batch 2:  Loss:     0.9019 accuracy: 0.62260002\n",
      "Epoch 14, CIFAR-10 Batch 3:  Loss:     0.8087 accuracy: 0.62699997\n",
      "Epoch 14, CIFAR-10 Batch 4:  Loss:     0.8359 accuracy: 0.62540001\n",
      "Epoch 14, CIFAR-10 Batch 5:  Loss:     0.8034 accuracy: 0.62940001\n",
      "Epoch 15, CIFAR-10 Batch 1:  Loss:     0.8058 accuracy: 0.62699997\n",
      "Epoch 15, CIFAR-10 Batch 2:  Loss:     0.8764 accuracy: 0.63300002\n",
      "Epoch 15, CIFAR-10 Batch 3:  Loss:     0.7767 accuracy: 0.63279998\n",
      "Epoch 15, CIFAR-10 Batch 4:  Loss:     0.8037 accuracy: 0.62980002\n",
      "Epoch 15, CIFAR-10 Batch 5:  Loss:     0.7956 accuracy: 0.62279999\n",
      "Epoch 16, CIFAR-10 Batch 1:  Loss:     0.7791 accuracy: 0.63540000\n",
      "Epoch 16, CIFAR-10 Batch 2:  Loss:     0.8303 accuracy: 0.63499999\n",
      "Epoch 16, CIFAR-10 Batch 3:  Loss:     0.7601 accuracy: 0.63340002\n",
      "Epoch 16, CIFAR-10 Batch 4:  Loss:     0.7930 accuracy: 0.62980002\n",
      "Epoch 16, CIFAR-10 Batch 5:  Loss:     0.7664 accuracy: 0.62819999\n",
      "Epoch 17, CIFAR-10 Batch 1:  Loss:     0.7791 accuracy: 0.63200003\n",
      "Epoch 17, CIFAR-10 Batch 2:  Loss:     0.8459 accuracy: 0.62019998\n",
      "Epoch 17, CIFAR-10 Batch 3:  Loss:     0.7586 accuracy: 0.62599999\n",
      "Epoch 17, CIFAR-10 Batch 4:  Loss:     0.7888 accuracy: 0.63300002\n",
      "Epoch 17, CIFAR-10 Batch 5:  Loss:     0.7595 accuracy: 0.63499999\n",
      "Epoch 18, CIFAR-10 Batch 1:  Loss:     0.7435 accuracy: 0.63700002\n",
      "Epoch 18, CIFAR-10 Batch 2:  Loss:     0.8477 accuracy: 0.61919999\n",
      "Epoch 18, CIFAR-10 Batch 3:  Loss:     0.7848 accuracy: 0.62440002\n",
      "Epoch 18, CIFAR-10 Batch 4:  Loss:     0.7829 accuracy: 0.62540001\n",
      "Epoch 18, CIFAR-10 Batch 5:  Loss:     0.7523 accuracy: 0.62879997\n",
      "Epoch 19, CIFAR-10 Batch 1:  Loss:     0.7327 accuracy: 0.63959998\n",
      "Epoch 19, CIFAR-10 Batch 2:  Loss:     0.8281 accuracy: 0.62300003\n",
      "Epoch 19, CIFAR-10 Batch 3:  Loss:     0.7890 accuracy: 0.61739999\n",
      "Epoch 19, CIFAR-10 Batch 4:  Loss:     0.7672 accuracy: 0.63260001\n",
      "Epoch 19, CIFAR-10 Batch 5:  Loss:     0.7302 accuracy: 0.63180000\n",
      "Epoch 20, CIFAR-10 Batch 1:  Loss:     0.7078 accuracy: 0.64179999\n",
      "Epoch 20, CIFAR-10 Batch 2:  Loss:     0.7610 accuracy: 0.63599998\n",
      "Epoch 20, CIFAR-10 Batch 3:  Loss:     0.7706 accuracy: 0.61940002\n",
      "Epoch 20, CIFAR-10 Batch 4:  Loss:     0.7524 accuracy: 0.63180000\n",
      "Epoch 20, CIFAR-10 Batch 5:  Loss:     0.7147 accuracy: 0.62959999\n",
      "Epoch 21, CIFAR-10 Batch 1:  Loss:     0.6883 accuracy: 0.64099997\n",
      "Epoch 21, CIFAR-10 Batch 2:  Loss:     0.7794 accuracy: 0.62519997\n",
      "Epoch 21, CIFAR-10 Batch 3:  Loss:     0.7406 accuracy: 0.62500000\n",
      "Epoch 21, CIFAR-10 Batch 4:  Loss:     0.7370 accuracy: 0.63419998\n",
      "Epoch 21, CIFAR-10 Batch 5:  Loss:     0.6976 accuracy: 0.62959999\n",
      "Epoch 22, CIFAR-10 Batch 1:  Loss:     0.6801 accuracy: 0.64700001\n",
      "Epoch 22, CIFAR-10 Batch 2:  Loss:     0.7523 accuracy: 0.63559997\n",
      "Epoch 22, CIFAR-10 Batch 3:  Loss:     0.7203 accuracy: 0.62819999\n",
      "Epoch 22, CIFAR-10 Batch 4:  Loss:     0.7534 accuracy: 0.63260001\n",
      "Epoch 22, CIFAR-10 Batch 5:  Loss:     0.6525 accuracy: 0.63779998\n",
      "Epoch 23, CIFAR-10 Batch 1:  Loss:     0.6837 accuracy: 0.63959998\n",
      "Epoch 23, CIFAR-10 Batch 2:  Loss:     0.7121 accuracy: 0.63999999\n",
      "Epoch 23, CIFAR-10 Batch 3:  Loss:     0.6688 accuracy: 0.63840002\n",
      "Epoch 23, CIFAR-10 Batch 4:  Loss:     0.7242 accuracy: 0.63540000\n",
      "Epoch 23, CIFAR-10 Batch 5:  Loss:     0.6423 accuracy: 0.64560002\n",
      "Epoch 24, CIFAR-10 Batch 1:  Loss:     0.6549 accuracy: 0.63840002\n",
      "Epoch 24, CIFAR-10 Batch 2:  Loss:     0.6908 accuracy: 0.64440000\n",
      "Epoch 24, CIFAR-10 Batch 3:  Loss:     0.6546 accuracy: 0.64319998\n",
      "Epoch 24, CIFAR-10 Batch 4:  Loss:     0.6926 accuracy: 0.63559997\n",
      "Epoch 24, CIFAR-10 Batch 5:  Loss:     0.6087 accuracy: 0.65140003\n",
      "Epoch 25, CIFAR-10 Batch 1:  Loss:     0.6318 accuracy: 0.64399999\n",
      "Epoch 25, CIFAR-10 Batch 2:  Loss:     0.6903 accuracy: 0.64200002\n",
      "Epoch 25, CIFAR-10 Batch 3:  Loss:     0.6364 accuracy: 0.64279997\n",
      "Epoch 25, CIFAR-10 Batch 4:  Loss:     0.6703 accuracy: 0.63819999\n",
      "Epoch 25, CIFAR-10 Batch 5:  Loss:     0.5960 accuracy: 0.65359998\n",
      "Epoch 26, CIFAR-10 Batch 1:  Loss:     0.6245 accuracy: 0.64200002\n",
      "Epoch 26, CIFAR-10 Batch 2:  Loss:     0.6542 accuracy: 0.64679998\n",
      "Epoch 26, CIFAR-10 Batch 3:  Loss:     0.6089 accuracy: 0.64920002\n",
      "Epoch 26, CIFAR-10 Batch 4:  Loss:     0.6807 accuracy: 0.63859999\n",
      "Epoch 26, CIFAR-10 Batch 5:  Loss:     0.5915 accuracy: 0.64740002\n",
      "Epoch 27, CIFAR-10 Batch 1:  Loss:     0.6008 accuracy: 0.64359999\n",
      "Epoch 27, CIFAR-10 Batch 2:  Loss:     0.6303 accuracy: 0.64940000\n",
      "Epoch 27, CIFAR-10 Batch 3:  Loss:     0.6007 accuracy: 0.64700001\n",
      "Epoch 27, CIFAR-10 Batch 4:  Loss:     0.6690 accuracy: 0.64099997\n",
      "Epoch 27, CIFAR-10 Batch 5:  Loss:     0.5867 accuracy: 0.64340001\n",
      "Epoch 28, CIFAR-10 Batch 1:  Loss:     0.6091 accuracy: 0.63900000\n",
      "Epoch 28, CIFAR-10 Batch 2:  Loss:     0.6338 accuracy: 0.64760000\n",
      "Epoch 28, CIFAR-10 Batch 3:  Loss:     0.5804 accuracy: 0.64819998\n",
      "Epoch 28, CIFAR-10 Batch 4:  Loss:     0.6631 accuracy: 0.63419998\n",
      "Epoch 28, CIFAR-10 Batch 5:  Loss:     0.5715 accuracy: 0.64980000\n",
      "Epoch 29, CIFAR-10 Batch 1:  Loss:     0.6186 accuracy: 0.63840002\n",
      "Epoch 29, CIFAR-10 Batch 2:  Loss:     0.6318 accuracy: 0.64459997\n",
      "Epoch 29, CIFAR-10 Batch 3:  Loss:     0.5621 accuracy: 0.65420002\n",
      "Epoch 29, CIFAR-10 Batch 4:  Loss:     0.6281 accuracy: 0.63999999\n",
      "Epoch 29, CIFAR-10 Batch 5:  Loss:     0.5764 accuracy: 0.65060002\n",
      "Epoch 30, CIFAR-10 Batch 1:  Loss:     0.6071 accuracy: 0.63559997\n",
      "Epoch 30, CIFAR-10 Batch 2:  Loss:     0.6548 accuracy: 0.63700002\n",
      "Epoch 30, CIFAR-10 Batch 3:  Loss:     0.6048 accuracy: 0.63599998\n",
      "Epoch 30, CIFAR-10 Batch 4:  Loss:     0.6165 accuracy: 0.64020002\n",
      "Epoch 30, CIFAR-10 Batch 5:  Loss:     0.5322 accuracy: 0.65700001\n",
      "Epoch 31, CIFAR-10 Batch 1:  Loss:     0.6081 accuracy: 0.63620001\n",
      "Epoch 31, CIFAR-10 Batch 2:  Loss:     0.6445 accuracy: 0.63239998\n",
      "Epoch 31, CIFAR-10 Batch 3:  Loss:     0.6141 accuracy: 0.63520002\n",
      "Epoch 31, CIFAR-10 Batch 4:  Loss:     0.6122 accuracy: 0.64819998\n",
      "Epoch 31, CIFAR-10 Batch 5:  Loss:     0.5157 accuracy: 0.65740001\n",
      "Epoch 32, CIFAR-10 Batch 1:  Loss:     0.5777 accuracy: 0.64679998\n",
      "Epoch 32, CIFAR-10 Batch 2:  Loss:     0.6190 accuracy: 0.63139999\n",
      "Epoch 32, CIFAR-10 Batch 3:  Loss:     0.6390 accuracy: 0.63040000\n",
      "Epoch 32, CIFAR-10 Batch 4:  Loss:     0.5997 accuracy: 0.64899999\n",
      "Epoch 32, CIFAR-10 Batch 5:  Loss:     0.5166 accuracy: 0.65640002\n",
      "Epoch 33, CIFAR-10 Batch 1:  Loss:     0.5598 accuracy: 0.64719999\n",
      "Epoch 33, CIFAR-10 Batch 2:  Loss:     0.5784 accuracy: 0.64499998\n",
      "Epoch 33, CIFAR-10 Batch 3:  Loss:     0.5878 accuracy: 0.64080000\n",
      "Epoch 33, CIFAR-10 Batch 4:  Loss:     0.5985 accuracy: 0.64700001\n",
      "Epoch 33, CIFAR-10 Batch 5:  Loss:     0.5097 accuracy: 0.65499997\n",
      "Epoch 34, CIFAR-10 Batch 1:  Loss:     0.5875 accuracy: 0.64480001\n",
      "Epoch 34, CIFAR-10 Batch 2:  Loss:     0.5732 accuracy: 0.64560002\n",
      "Epoch 34, CIFAR-10 Batch 3:  Loss:     0.5710 accuracy: 0.64420003\n",
      "Epoch 34, CIFAR-10 Batch 4:  Loss:     0.5938 accuracy: 0.64740002\n",
      "Epoch 34, CIFAR-10 Batch 5:  Loss:     0.4971 accuracy: 0.65660000\n",
      "Epoch 35, CIFAR-10 Batch 1:  Loss:     0.5467 accuracy: 0.65700001\n",
      "Epoch 35, CIFAR-10 Batch 2:  Loss:     0.5905 accuracy: 0.63919997\n",
      "Epoch 35, CIFAR-10 Batch 3:  Loss:     0.5529 accuracy: 0.64499998\n",
      "Epoch 35, CIFAR-10 Batch 4:  Loss:     0.5755 accuracy: 0.64579999\n",
      "Epoch 35, CIFAR-10 Batch 5:  Loss:     0.4786 accuracy: 0.66039997\n",
      "Epoch 36, CIFAR-10 Batch 1:  Loss:     0.5164 accuracy: 0.65960002\n",
      "Epoch 36, CIFAR-10 Batch 2:  Loss:     0.5895 accuracy: 0.63760000\n",
      "Epoch 36, CIFAR-10 Batch 3:  Loss:     0.5762 accuracy: 0.63819999\n",
      "Epoch 36, CIFAR-10 Batch 4:  Loss:     0.5747 accuracy: 0.64499998\n",
      "Epoch 36, CIFAR-10 Batch 5:  Loss:     0.4718 accuracy: 0.65600002\n",
      "Epoch 37, CIFAR-10 Batch 1:  Loss:     0.5231 accuracy: 0.65060002\n",
      "Epoch 37, CIFAR-10 Batch 2:  Loss:     0.5429 accuracy: 0.65799999\n",
      "Epoch 37, CIFAR-10 Batch 3:  Loss:     0.5366 accuracy: 0.64319998\n",
      "Epoch 37, CIFAR-10 Batch 4:  Loss:     0.5915 accuracy: 0.64539999\n",
      "Epoch 37, CIFAR-10 Batch 5:  Loss:     0.5051 accuracy: 0.64420003\n",
      "Epoch 38, CIFAR-10 Batch 1:  Loss:     0.5475 accuracy: 0.64980000\n",
      "Epoch 38, CIFAR-10 Batch 2:  Loss:     0.5426 accuracy: 0.65719998\n",
      "Epoch 38, CIFAR-10 Batch 3:  Loss:     0.4903 accuracy: 0.65240002\n",
      "Epoch 38, CIFAR-10 Batch 4:  Loss:     0.5433 accuracy: 0.65960002\n",
      "Epoch 38, CIFAR-10 Batch 5:  Loss:     0.4778 accuracy: 0.64859998\n",
      "Epoch 39, CIFAR-10 Batch 1:  Loss:     0.5056 accuracy: 0.65240002\n",
      "Epoch 39, CIFAR-10 Batch 2:  Loss:     0.5403 accuracy: 0.65200001\n",
      "Epoch 39, CIFAR-10 Batch 3:  Loss:     0.4911 accuracy: 0.65240002\n",
      "Epoch 39, CIFAR-10 Batch 4:  Loss:     0.5335 accuracy: 0.65719998\n",
      "Epoch 39, CIFAR-10 Batch 5:  Loss:     0.4717 accuracy: 0.64679998\n",
      "Epoch 40, CIFAR-10 Batch 1:  Loss:     0.5032 accuracy: 0.64399999\n",
      "Epoch 40, CIFAR-10 Batch 2:  Loss:     0.5358 accuracy: 0.65840000\n",
      "Epoch 40, CIFAR-10 Batch 3:  Loss:     0.4843 accuracy: 0.65319997\n",
      "Epoch 40, CIFAR-10 Batch 4:  Loss:     0.5757 accuracy: 0.64399999\n",
      "Epoch 40, CIFAR-10 Batch 5:  Loss:     0.4775 accuracy: 0.64840001\n",
      "Epoch 41, CIFAR-10 Batch 1:  Loss:     0.4977 accuracy: 0.64420003\n",
      "Epoch 41, CIFAR-10 Batch 2:  Loss:     0.5544 accuracy: 0.65319997\n",
      "Epoch 41, CIFAR-10 Batch 3:  Loss:     0.4840 accuracy: 0.65759999\n",
      "Epoch 41, CIFAR-10 Batch 4:  Loss:     0.5522 accuracy: 0.64579999\n",
      "Epoch 41, CIFAR-10 Batch 5:  Loss:     0.4836 accuracy: 0.64080000\n",
      "Epoch 42, CIFAR-10 Batch 1:  Loss:     0.4904 accuracy: 0.64700001\n",
      "Epoch 42, CIFAR-10 Batch 2:  Loss:     0.5383 accuracy: 0.64499998\n",
      "Epoch 42, CIFAR-10 Batch 3:  Loss:     0.4709 accuracy: 0.65719998\n",
      "Epoch 42, CIFAR-10 Batch 4:  Loss:     0.5568 accuracy: 0.65340000\n",
      "Epoch 42, CIFAR-10 Batch 5:  Loss:     0.4600 accuracy: 0.65039998\n",
      "Epoch 43, CIFAR-10 Batch 1:  Loss:     0.4830 accuracy: 0.64999998\n",
      "Epoch 43, CIFAR-10 Batch 2:  Loss:     0.5335 accuracy: 0.64999998\n",
      "Epoch 43, CIFAR-10 Batch 3:  Loss:     0.4694 accuracy: 0.65619999\n",
      "Epoch 43, CIFAR-10 Batch 4:  Loss:     0.5698 accuracy: 0.64319998\n",
      "Epoch 43, CIFAR-10 Batch 5:  Loss:     0.4488 accuracy: 0.65740001\n",
      "Epoch 44, CIFAR-10 Batch 1:  Loss:     0.4764 accuracy: 0.65200001\n",
      "Epoch 44, CIFAR-10 Batch 2:  Loss:     0.5214 accuracy: 0.64880002\n",
      "Epoch 44, CIFAR-10 Batch 3:  Loss:     0.4488 accuracy: 0.65560001\n",
      "Epoch 44, CIFAR-10 Batch 4:  Loss:     0.5334 accuracy: 0.64840001\n",
      "Epoch 44, CIFAR-10 Batch 5:  Loss:     0.4508 accuracy: 0.65579998\n",
      "Epoch 45, CIFAR-10 Batch 1:  Loss:     0.4470 accuracy: 0.65340000\n",
      "Epoch 45, CIFAR-10 Batch 2:  Loss:     0.4989 accuracy: 0.65160000\n",
      "Epoch 45, CIFAR-10 Batch 3:  Loss:     0.4528 accuracy: 0.65179998\n",
      "Epoch 45, CIFAR-10 Batch 4:  Loss:     0.5044 accuracy: 0.65060002\n",
      "Epoch 45, CIFAR-10 Batch 5:  Loss:     0.4620 accuracy: 0.65259999\n",
      "Epoch 46, CIFAR-10 Batch 1:  Loss:     0.4616 accuracy: 0.64920002\n",
      "Epoch 46, CIFAR-10 Batch 2:  Loss:     0.4976 accuracy: 0.65179998\n",
      "Epoch 46, CIFAR-10 Batch 3:  Loss:     0.4379 accuracy: 0.64999998\n",
      "Epoch 46, CIFAR-10 Batch 4:  Loss:     0.4870 accuracy: 0.65319997\n",
      "Epoch 46, CIFAR-10 Batch 5:  Loss:     0.4225 accuracy: 0.65820003\n",
      "Epoch 47, CIFAR-10 Batch 1:  Loss:     0.4426 accuracy: 0.65380001\n",
      "Epoch 47, CIFAR-10 Batch 2:  Loss:     0.4679 accuracy: 0.65840000\n",
      "Epoch 47, CIFAR-10 Batch 3:  Loss:     0.4257 accuracy: 0.65160000\n",
      "Epoch 47, CIFAR-10 Batch 4:  Loss:     0.4757 accuracy: 0.65899998\n",
      "Epoch 47, CIFAR-10 Batch 5:  Loss:     0.3971 accuracy: 0.65939999\n",
      "Epoch 48, CIFAR-10 Batch 1:  Loss:     0.4300 accuracy: 0.64880002\n",
      "Epoch 48, CIFAR-10 Batch 2:  Loss:     0.4725 accuracy: 0.64639997\n",
      "Epoch 48, CIFAR-10 Batch 3:  Loss:     0.4070 accuracy: 0.65600002\n",
      "Epoch 48, CIFAR-10 Batch 4:  Loss:     0.4558 accuracy: 0.65700001\n",
      "Epoch 48, CIFAR-10 Batch 5:  Loss:     0.4015 accuracy: 0.65619999\n",
      "Epoch 49, CIFAR-10 Batch 1:  Loss:     0.4107 accuracy: 0.66140002\n",
      "Epoch 49, CIFAR-10 Batch 2:  Loss:     0.4679 accuracy: 0.64940000\n",
      "Epoch 49, CIFAR-10 Batch 3:  Loss:     0.4303 accuracy: 0.64719999\n",
      "Epoch 49, CIFAR-10 Batch 4:  Loss:     0.4597 accuracy: 0.65539998\n",
      "Epoch 49, CIFAR-10 Batch 5:  Loss:     0.4011 accuracy: 0.65740001\n",
      "Epoch 50, CIFAR-10 Batch 1:  Loss:     0.4172 accuracy: 0.65319997\n",
      "Epoch 50, CIFAR-10 Batch 2:  Loss:     0.4831 accuracy: 0.64420003\n",
      "Epoch 50, CIFAR-10 Batch 3:  Loss:     0.3992 accuracy: 0.65219998\n",
      "Epoch 50, CIFAR-10 Batch 4:  Loss:     0.4795 accuracy: 0.65340000\n",
      "Epoch 50, CIFAR-10 Batch 5:  Loss:     0.3877 accuracy: 0.66219997\n"
     ]
    }
   ],
   "source": [
    "\"\"\"\n",
    "DON'T MODIFY ANYTHING IN THIS CELL\n",
    "\"\"\"\n",
    "save_model_path = './image_classification'\n",
    "\n",
    "print('Training...')\n",
    "with tf.Session() as sess:\n",
    "    # Initializing the variables\n",
    "    sess.run(tf.global_variables_initializer())\n",
    "    \n",
    "    # Training cycle\n",
    "    for epoch in range(epochs):\n",
    "        # Loop over all batches\n",
    "        n_batches = 5\n",
    "        for batch_i in range(1, n_batches + 1):\n",
    "            for batch_features, batch_labels in helper.load_preprocess_training_batch(batch_i, batch_size):\n",
    "                train_neural_network(sess, optimizer, keep_probability, batch_features, batch_labels)\n",
    "            print('Epoch {:>2}, CIFAR-10 Batch {}:  '.format(epoch + 1, batch_i), end='')\n",
    "            print_stats(sess, batch_features, batch_labels, cost, accuracy)\n",
    "            \n",
    "    # Save Model\n",
    "    saver = tf.train.Saver()\n",
    "    save_path = saver.save(sess, save_model_path)"
   ]
  },
  {
   "cell_type": "markdown",
   "metadata": {
    "deletable": true,
    "editable": true
   },
   "source": [
    "# Checkpoint\n",
    "The model has been saved to disk.\n",
    "## Test Model\n",
    "Test your model against the test dataset.  This will be your final accuracy. You should have an accuracy greater than 50%. If you don't, keep tweaking the model architecture and parameters."
   ]
  },
  {
   "cell_type": "code",
   "execution_count": 226,
   "metadata": {
    "collapsed": false,
    "deletable": true,
    "editable": true
   },
   "outputs": [
    {
     "name": "stdout",
     "output_type": "stream",
     "text": [
      "Testing Accuracy: 0.6515007197856904\n",
      "\n"
     ]
    },
    {
     "data": {
      "image/png": "[encoded data removed]",
      "text/plain": [
       "<matplotlib.figure.Figure at 0xccae9d0470>"
      ]
     },
     "metadata": {
      "image/png": {
       "height": 319,
       "width": 355
      }
     },
     "output_type": "display_data"
    }
   ],
   "source": [
    "\"\"\"\n",
    "DON'T MODIFY ANYTHING IN THIS CELL\n",
    "\"\"\"\n",
    "%matplotlib inline\n",
    "%config InlineBackend.figure_format = 'retina'\n",
    "\n",
    "import tensorflow as tf\n",
    "import pickle\n",
    "import helper\n",
    "import random\n",
    "\n",
    "# Set batch size if not already set\n",
    "try:\n",
    "    if batch_size:\n",
    "        pass\n",
    "except NameError:\n",
    "    batch_size = 64\n",
    "\n",
    "save_model_path = './image_classification'\n",
    "n_samples = 4\n",
    "top_n_predictions = 3\n",
    "\n",
    "def test_model():\n",
    "    \"\"\"\n",
    "    Test the saved model against the test dataset\n",
    "    \"\"\"\n",
    "\n",
    "    test_features, test_labels = pickle.load(open('preprocess_training.p', mode='rb'))\n",
    "    loaded_graph = tf.Graph()\n",
    "\n",
    "    with tf.Session(graph=loaded_graph) as sess:\n",
    "        # Load model\n",
    "        loader = tf.train.import_meta_graph(save_model_path + '.meta')\n",
    "        loader.restore(sess, save_model_path)\n",
    "\n",
    "        # Get Tensors from loaded model\n",
    "        loaded_x = loaded_graph.get_tensor_by_name('x:0')\n",
    "        loaded_y = loaded_graph.get_tensor_by_name('y:0')\n",
    "        loaded_keep_prob = loaded_graph.get_tensor_by_name('keep_prob:0')\n",
    "        loaded_logits = loaded_graph.get_tensor_by_name('logits:0')\n",
    "        loaded_acc = loaded_graph.get_tensor_by_name('accuracy:0')\n",
    "        \n",
    "        # Get accuracy in batches for memory limitations\n",
    "        test_batch_acc_total = 0\n",
    "        test_batch_count = 0\n",
    "        \n",
    "        for train_feature_batch, train_label_batch in helper.batch_features_labels(test_features, test_labels, batch_size):\n",
    "            test_batch_acc_total += sess.run(\n",
    "                loaded_acc,\n",
    "                feed_dict={loaded_x: train_feature_batch, loaded_y: train_label_batch, loaded_keep_prob: 1.0})\n",
    "            test_batch_count += 1\n",
    "\n",
    "        print('Testing Accuracy: {}\\n'.format(test_batch_acc_total/test_batch_count))\n",
    "\n",
    "        # Print Random Samples\n",
    "        random_test_features, random_test_labels = tuple(zip(*random.sample(list(zip(test_features, test_labels)), n_samples)))\n",
    "        random_test_predictions = sess.run(\n",
    "            tf.nn.top_k(tf.nn.softmax(loaded_logits), top_n_predictions),\n",
    "            feed_dict={loaded_x: random_test_features, loaded_y: random_test_labels, loaded_keep_prob: 1.0})\n",
    "        helper.display_image_predictions(random_test_features, random_test_labels, random_test_predictions)\n",
    "\n",
    "\n",
    "test_model()"
   ]
  },
  {
   "cell_type": "markdown",
   "metadata": {
    "deletable": true,
    "editable": true
   },
   "source": [
    "## Why 50-70% Accuracy?\n",
    "You might be wondering why you can't get an accuracy any higher. First things first, 50% isn't bad for a simple CNN.  Pure guessing would get you 10% accuracy. However, you might notice people are getting scores [well above 70%](http://rodrigob.github.io/are_we_there_yet/build/classification_datasets_results.html#43494641522d3130).  That's because we haven't taught you all there is to know about neural networks. We still need to cover a few more techniques.\n",
    "## Submitting This Project\n",
    "When submitting this project, make sure to run all the cells before saving the notebook.  Save the notebook file as \"dlnd_image_classification.ipynb\" and save it as a HTML file under \"File\" -> \"Download as\".  Include the \"helper.py\" and \"problem_unittests.py\" files in your submission."
   ]
  }
 ],
 "metadata": {
  "kernelspec": {
   "display_name": "Python 3",
   "language": "python",
   "name": "python3"
  },
  "language_info": {
   "codemirror_mode": {
    "name": "ipython",
    "version": 3
   },
   "file_extension": ".py",
   "mimetype": "text/x-python",
   "name": "python",
   "nbconvert_exporter": "python",
   "pygments_lexer": "ipython3",
   "version": "3.5.2"
  }
 },
 "nbformat": 4,
 "nbformat_minor": 0
}
